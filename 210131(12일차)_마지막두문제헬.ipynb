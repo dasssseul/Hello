{
  "nbformat": 4,
  "nbformat_minor": 0,
  "metadata": {
    "colab": {
      "name": "210131(12일차)_마지막두문제헬.ipynb",
      "provenance": [],
      "authorship_tag": "ABX9TyOQV6oY8z5k1M9lidIzmgVz",
      "include_colab_link": true
    },
    "kernelspec": {
      "name": "python3",
      "display_name": "Python 3"
    }
  },
  "cells": [
    {
      "cell_type": "markdown",
      "metadata": {
        "id": "view-in-github",
        "colab_type": "text"
      },
      "source": [
        "<a href=\"https://colab.research.google.com/github/dasssseul/Hello/blob/main/210131(12%EC%9D%BC%EC%B0%A8)_%EB%A7%88%EC%A7%80%EB%A7%89%EB%91%90%EB%AC%B8%EC%A0%9C%ED%97%AC.ipynb\" target=\"_parent\"><img src=\"https://colab.research.google.com/assets/colab-badge.svg\" alt=\"Open In Colab\"/></a>"
      ]
    },
    {
      "cell_type": "code",
      "metadata": {
        "colab": {
          "base_uri": "https://localhost:8080/"
        },
        "id": "_oi22OJYI3cZ",
        "outputId": "5d3923cd-e5fc-437d-d27a-2543b19ce716"
      },
      "source": [
        "#1098\r\n",
        "h, w = map(int, input().split())\r\n",
        "n = int(input())\r\n",
        "m = []\r\n",
        "for i in range(h):\r\n",
        "    m.append([])\r\n",
        "    for j in range(w):\r\n",
        "        m[i].append(0)\r\n",
        "for i in range(n):\r\n",
        "    l, d, x, y = map(int, input().split())\r\n",
        "    for j in range(y-1,l+y-1):\r\n",
        "        if d == 0:\r\n",
        "            m[x-1][j] = 1\r\n",
        "    for k in range(x-1,l+x-1):\r\n",
        "        if d == 1:\r\n",
        "            m[k][y-1] = 1\r\n",
        "\r\n",
        "for i in range(h):\r\n",
        "    for j in range(w):\r\n",
        "        print(m[i][j], end = ' ')\r\n",
        "    print()"
      ],
      "execution_count": 15,
      "outputs": [
        {
          "output_type": "stream",
          "text": [
            "5 5 \n",
            "4\n",
            "2 0 1 1\n",
            "3 1 2 3\n",
            "4 1 2 5\n",
            "1 1 5 4\n",
            "1 1 0 0 0 \n",
            "0 0 1 0 1 \n",
            "0 0 1 0 1 \n",
            "0 0 1 0 1 \n",
            "0 0 0 1 1 \n"
          ],
          "name": "stdout"
        }
      ]
    },
    {
      "cell_type": "code",
      "metadata": {
        "id": "nK3C3F9yp7iR"
      },
      "source": [
        "# 1098 (다솔이 풀이)\r\n",
        "h, w = map(int, input().split())\r\n",
        "ppobgi = [[0]*w for i in range (h)]\r\n",
        "\r\n",
        "n = int(input())\r\n",
        "\r\n",
        "for i in range(n) :\r\n",
        "    l, d, x, y = map(int, input().split())\r\n",
        "    x -= 1\r\n",
        "    y -= 1\r\n",
        "    for j in range(l) :\r\n",
        "        if d == 0 :\r\n",
        "            ppobgi[x][y+j] = 1\r\n",
        "        else :\r\n",
        "            ppobgi[x+j][y] = 1\r\n",
        "\r\n",
        "\r\n",
        "for i in range (h) :\r\n",
        "    for j in range (w) :\r\n",
        "        print(ppobgi[i][j], end=' ')\r\n",
        "    print()"
      ],
      "execution_count": null,
      "outputs": []
    },
    {
      "cell_type": "code",
      "metadata": {
        "colab": {
          "base_uri": "https://localhost:8080/"
        },
        "id": "0St1xke_YSUj",
        "outputId": "fbeee954-91d9-4b7d-9c79-4750027353f2"
      },
      "source": [
        "#1099\r\n",
        "m = []\r\n",
        "for i in range(10):\r\n",
        "    m.append(list(map(int,input().split())))\r\n",
        "\r\n",
        "x, y = 1, 1\r\n",
        "\r\n",
        "while True:\r\n",
        "    if m[x][y] == 0:\r\n",
        "        m[x][y] = 9\r\n",
        "    elif m[x][y] == 2:\r\n",
        "        m[x][y] = 9\r\n",
        "        break\r\n",
        "\r\n",
        "    if m[x][y+1] == 1 and m[x+1][y] == 1:\r\n",
        "        break\r\n",
        "\r\n",
        "    if m[x][y+1] != 1:\r\n",
        "        y = y+1\r\n",
        "    elif m[x+1][y] != 1:\r\n",
        "        x = x+1\r\n",
        " \r\n",
        "for i in range(10):\r\n",
        "    for j in range(10):\r\n",
        "        print(m[i][j], end=' ')\r\n",
        "    print()"
      ],
      "execution_count": 37,
      "outputs": [
        {
          "output_type": "stream",
          "text": [
            "1 1 1 1 1 1 1 1 1 1\n",
            "1 0 0 1 0 0 0 0 0 1\n",
            "1 0 0 1 1 1 0 0 0 1\n",
            "1 0 0 0 0 0 0 1 0 1\n",
            "1 0 0 0 0 0 0 1 0 1\n",
            "1 0 0 0 0 1 0 1 0 1\n",
            "1 0 0 0 0 1 2 1 0 1\n",
            "1 0 0 0 0 1 0 0 0 1\n",
            "1 0 0 0 0 0 0 0 0 1\n",
            "1 1 1 1 1 1 1 1 1 1\n",
            "1 1 1 1 1 1 1 1 1 1 \n",
            "1 9 9 1 0 0 0 0 0 1 \n",
            "1 0 9 1 1 1 0 0 0 1 \n",
            "1 0 9 9 9 9 9 1 0 1 \n",
            "1 0 0 0 0 0 9 1 0 1 \n",
            "1 0 0 0 0 1 9 1 0 1 \n",
            "1 0 0 0 0 1 9 1 0 1 \n",
            "1 0 0 0 0 1 0 0 0 1 \n",
            "1 0 0 0 0 0 0 0 0 1 \n",
            "1 1 1 1 1 1 1 1 1 1 \n"
          ],
          "name": "stdout"
        }
      ]
    }
  ]
}