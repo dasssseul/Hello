{
  "nbformat": 4,
  "nbformat_minor": 0,
  "metadata": {
    "colab": {
      "name": "210125(8일차).ipynb",
      "provenance": [],
      "authorship_tag": "ABX9TyOu7Tv7+chDHjy/KL95JkkL",
      "include_colab_link": true
    },
    "kernelspec": {
      "name": "python3",
      "display_name": "Python 3"
    }
  },
  "cells": [
    {
      "cell_type": "markdown",
      "metadata": {
        "id": "view-in-github",
        "colab_type": "text"
      },
      "source": [
        "<a href=\"https://colab.research.google.com/github/dasssseul/Hello/blob/main/210125(8%EC%9D%BC%EC%B0%A8).ipynb\" target=\"_parent\"><img src=\"https://colab.research.google.com/assets/colab-badge.svg\" alt=\"Open In Colab\"/></a>"
      ]
    },
    {
      "cell_type": "code",
      "metadata": {
        "colab": {
          "base_uri": "https://localhost:8080/"
        },
        "id": "KYsnSIwqgDR0",
        "outputId": "dc276b11-612b-4351-d1c8-e550654c6c1d"
      },
      "source": [
        "#1078\r\n",
        "a = int(input())\r\n",
        "k = 0\r\n",
        "for i in range(1,a+1):\r\n",
        "    if i%2==0:\r\n",
        "        k=k+i\r\n",
        "print(k)"
      ],
      "execution_count": 1,
      "outputs": [
        {
          "output_type": "stream",
          "text": [
            "5\n",
            "6\n"
          ],
          "name": "stdout"
        }
      ]
    },
    {
      "cell_type": "code",
      "metadata": {
        "colab": {
          "base_uri": "https://localhost:8080/"
        },
        "id": "brt4XUHHgOpi",
        "outputId": "a265ec47-f193-4c50-a8ab-3114609861b3"
      },
      "source": [
        "#1079\r\n",
        "s = input().split()\r\n",
        "for i in s:\r\n",
        "    if i=='q':\r\n",
        "        print(i)\r\n",
        "        break\r\n",
        "    else:\r\n",
        "        print(i)"
      ],
      "execution_count": 2,
      "outputs": [
        {
          "output_type": "stream",
          "text": [
            "x b q\n",
            "x\n",
            "b\n",
            "q\n"
          ],
          "name": "stdout"
        }
      ]
    },
    {
      "cell_type": "code",
      "metadata": {
        "colab": {
          "base_uri": "https://localhost:8080/"
        },
        "id": "LNQ3h2CWgQ4A",
        "outputId": "f5ef0153-8c73-4065-e04e-2587737e108f"
      },
      "source": [
        "#1080\r\n",
        "a = int(input())\r\n",
        "k = 0\r\n",
        "for i in range(1,a+1):\r\n",
        "    if k<a:\r\n",
        "        k=k+i\r\n",
        "    else:\r\n",
        "        print(i-1)\r\n",
        "        break"
      ],
      "execution_count": 3,
      "outputs": [
        {
          "output_type": "stream",
          "text": [
            "55\n",
            "10\n"
          ],
          "name": "stdout"
        }
      ]
    },
    {
      "cell_type": "code",
      "metadata": {
        "colab": {
          "base_uri": "https://localhost:8080/"
        },
        "id": "iw_kI0QygUXP",
        "outputId": "3006e923-6670-40aa-8222-0244ccb88c40"
      },
      "source": [
        "#1081\r\n",
        "a, b = map(int, input().split())\r\n",
        "for i in range(1,a+1):\r\n",
        "    for j in range(1,b+1):\r\n",
        "        print(i,j)"
      ],
      "execution_count": 4,
      "outputs": [
        {
          "output_type": "stream",
          "text": [
            "2 3\n",
            "1 1\n",
            "1 2\n",
            "1 3\n",
            "2 1\n",
            "2 2\n",
            "2 3\n"
          ],
          "name": "stdout"
        }
      ]
    },
    {
      "cell_type": "code",
      "metadata": {
        "colab": {
          "base_uri": "https://localhost:8080/"
        },
        "id": "BgZig7BzgWyZ",
        "outputId": "25341c26-3afd-4284-e1f5-d4d9081dfb47"
      },
      "source": [
        "#1082\r\n",
        "a = int(input(),16)\r\n",
        "for i in range(1,16):\r\n",
        "    print((\"%X\"%a)+'*'+(\"%X\" %i)+'='+(\"%X\" %(a*i)))"
      ],
      "execution_count": 5,
      "outputs": [
        {
          "output_type": "stream",
          "text": [
            "B\n",
            "B*1=B\n",
            "B*2=16\n",
            "B*3=21\n",
            "B*4=2C\n",
            "B*5=37\n",
            "B*6=42\n",
            "B*7=4D\n",
            "B*8=58\n",
            "B*9=63\n",
            "B*A=6E\n",
            "B*B=79\n",
            "B*C=84\n",
            "B*D=8F\n",
            "B*E=9A\n",
            "B*F=A5\n"
          ],
          "name": "stdout"
        }
      ]
    }
  ]
}