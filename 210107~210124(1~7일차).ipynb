{
  "nbformat": 4,
  "nbformat_minor": 0,
  "metadata": {
    "colab": {
      "name": "210107~210124(1~7일차).ipynb",
      "provenance": [],
      "authorship_tag": "ABX9TyMZeCsoglZluHgAPS//WUqo",
      "include_colab_link": true
    },
    "kernelspec": {
      "display_name": "Python 3",
      "name": "python3"
    }
  },
  "cells": [
    {
      "cell_type": "markdown",
      "metadata": {
        "id": "view-in-github",
        "colab_type": "text"
      },
      "source": [
        "<a href=\"https://colab.research.google.com/github/dasssseul/Hello/blob/main/210107~210124(1~7%EC%9D%BC%EC%B0%A8).ipynb\" target=\"_parent\"><img src=\"https://colab.research.google.com/assets/colab-badge.svg\" alt=\"Open In Colab\"/></a>"
      ]
    },
    {
      "cell_type": "markdown",
      "metadata": {
        "id": "-2hRuBvJ0RQx"
      },
      "source": [
        "**1일차 파이팅_1월 7일**"
      ]
    },
    {
      "cell_type": "code",
      "metadata": {
        "colab": {
          "base_uri": "https://localhost:8080/"
        },
        "id": "gI97ziUrtC55",
        "outputId": "f5877146-fc77-488e-9d20-60019b514edc"
      },
      "source": [
        "print('Hello')"
      ],
      "execution_count": null,
      "outputs": [
        {
          "output_type": "stream",
          "text": [
            "Hello\n"
          ],
          "name": "stdout"
        }
      ]
    },
    {
      "cell_type": "code",
      "metadata": {
        "colab": {
          "base_uri": "https://localhost:8080/"
        },
        "id": "QkYEzKodwCtC",
        "outputId": "4a9f2475-32ba-45c6-e1a8-5d16088f0522"
      },
      "source": [
        "print('Hello World')"
      ],
      "execution_count": null,
      "outputs": [
        {
          "output_type": "stream",
          "text": [
            "Hello World\n"
          ],
          "name": "stdout"
        }
      ]
    },
    {
      "cell_type": "code",
      "metadata": {
        "colab": {
          "base_uri": "https://localhost:8080/"
        },
        "id": "1UkmScs5w8Rh",
        "outputId": "4174fefa-df57-4e7c-d1e8-d96ffdb0733a"
      },
      "source": [
        "print('Hello\\nWorld')"
      ],
      "execution_count": null,
      "outputs": [
        {
          "output_type": "stream",
          "text": [
            "Hello\n",
            "World\n"
          ],
          "name": "stdout"
        }
      ]
    },
    {
      "cell_type": "code",
      "metadata": {
        "colab": {
          "base_uri": "https://localhost:8080/"
        },
        "id": "x4vz7JcixCcX",
        "outputId": "8bd016e1-d332-487b-86f8-134d2e7b1cfe"
      },
      "source": [
        "print(\"'Hello'\")"
      ],
      "execution_count": null,
      "outputs": [
        {
          "output_type": "stream",
          "text": [
            "'Hello'\n"
          ],
          "name": "stdout"
        }
      ]
    },
    {
      "cell_type": "code",
      "metadata": {
        "colab": {
          "base_uri": "https://localhost:8080/"
        },
        "id": "1Ip1qsZGx8AP",
        "outputId": "355f0ffb-ce71-47e9-e8ca-ff9ad6c581be"
      },
      "source": [
        "print('\"Hello World\"')"
      ],
      "execution_count": null,
      "outputs": [
        {
          "output_type": "stream",
          "text": [
            "\"Hello World\"\n"
          ],
          "name": "stdout"
        }
      ]
    },
    {
      "cell_type": "code",
      "metadata": {
        "colab": {
          "base_uri": "https://localhost:8080/"
        },
        "id": "gHYOBm0xtN-C",
        "outputId": "4258d606-66ce-455c-afd8-7a1f2a31dca5"
      },
      "source": [
        "print('\"!@#$%^&*()\"')"
      ],
      "execution_count": null,
      "outputs": [
        {
          "output_type": "stream",
          "text": [
            "\"!@#$%^&*()\"\n"
          ],
          "name": "stdout"
        }
      ]
    },
    {
      "cell_type": "code",
      "metadata": {
        "colab": {
          "base_uri": "https://localhost:8080/"
        },
        "id": "fGSxG9dKtjwp",
        "outputId": "78714c41-a1dd-4fd0-f6b1-778e345b0f00"
      },
      "source": [
        "print('\"C:\\Download\\hello.cpp\"')"
      ],
      "execution_count": null,
      "outputs": [
        {
          "output_type": "stream",
          "text": [
            "\"C:\\Download\\hello.cpp\"\n"
          ],
          "name": "stdout"
        }
      ]
    },
    {
      "cell_type": "code",
      "metadata": {
        "colab": {
          "base_uri": "https://localhost:8080/"
        },
        "id": "x5aWEnDmt90h",
        "outputId": "dfa1f943-2dda-4a0d-d269-1b2d952afd0b"
      },
      "source": [
        "print(\"\\u250C\\u252C\\u2510\\n\\u251C\\u253C\\u2524\\n\\u2514\\u2534\\u2518\")"
      ],
      "execution_count": null,
      "outputs": [
        {
          "output_type": "stream",
          "text": [
            "┌┬┐\n",
            "├┼┤\n",
            "└┴┘\n"
          ],
          "name": "stdout"
        }
      ]
    },
    {
      "cell_type": "markdown",
      "metadata": {
        "id": "hevTmVgOQx0w"
      },
      "source": [
        "**2일차 다시시작_1월18일**"
      ]
    },
    {
      "cell_type": "code",
      "metadata": {
        "colab": {
          "base_uri": "https://localhost:8080/"
        },
        "id": "RPA6xr1BQxLE",
        "outputId": "b76798be-212c-4fbc-8367-98cc808c1c45"
      },
      "source": [
        "a = input()\r\n",
        "print(a)"
      ],
      "execution_count": null,
      "outputs": [
        {
          "output_type": "stream",
          "text": [
            "10\n",
            "10\n"
          ],
          "name": "stdout"
        }
      ]
    },
    {
      "cell_type": "code",
      "metadata": {
        "colab": {
          "base_uri": "https://localhost:8080/"
        },
        "id": "oiVGruedULFQ",
        "outputId": "f45915a8-17f7-4708-ca16-015bfb5eacb4"
      },
      "source": [
        "b = input()\r\n",
        "print(b)"
      ],
      "execution_count": null,
      "outputs": [
        {
          "output_type": "stream",
          "text": [
            "안녕\n",
            "안녕\n"
          ],
          "name": "stdout"
        }
      ]
    },
    {
      "cell_type": "code",
      "metadata": {
        "colab": {
          "base_uri": "https://localhost:8080/"
        },
        "id": "yq54aSrbVOcs",
        "outputId": "ff0d441d-4aaf-4bef-ba75-917dbc8876ef"
      },
      "source": [
        "c = float(input())\r\n",
        "print(round(c,6))"
      ],
      "execution_count": null,
      "outputs": [
        {
          "output_type": "stream",
          "text": [
            "1.4567890\n",
            "1.456789\n"
          ],
          "name": "stdout"
        }
      ]
    },
    {
      "cell_type": "code",
      "metadata": {
        "colab": {
          "base_uri": "https://localhost:8080/"
        },
        "id": "C2rwQo8kXxlX",
        "outputId": "600b6dfb-8689-4b20-a6bd-9ca8b01ad9e7"
      },
      "source": [
        "x = float(input())\r\n",
        "print(\"%.6f\" %x)"
      ],
      "execution_count": null,
      "outputs": [
        {
          "output_type": "stream",
          "text": [
            "1.23456789\n",
            "1.234568\n"
          ],
          "name": "stdout"
        }
      ]
    },
    {
      "cell_type": "code",
      "metadata": {
        "colab": {
          "base_uri": "https://localhost:8080/"
        },
        "id": "ROWoRnplcDdN",
        "outputId": "2ccb37c7-dbe3-41e8-f572-a06edfe342dc"
      },
      "source": [
        "a, b = map(int, input().split())\r\n",
        "print(a, b)"
      ],
      "execution_count": null,
      "outputs": [
        {
          "output_type": "stream",
          "text": [
            "1 2\n",
            "1 2\n"
          ],
          "name": "stdout"
        }
      ]
    },
    {
      "cell_type": "code",
      "metadata": {
        "colab": {
          "base_uri": "https://localhost:8080/"
        },
        "id": "INwhDDpTcZbq",
        "outputId": "be0b21a8-7314-4bdc-8545-2795df660636"
      },
      "source": [
        "a, b = map(str, input().split())\r\n",
        "print(b,a)"
      ],
      "execution_count": null,
      "outputs": [
        {
          "output_type": "stream",
          "text": [
            "안녕 다슬\n",
            "다슬 안녕\n"
          ],
          "name": "stdout"
        }
      ]
    },
    {
      "cell_type": "code",
      "metadata": {
        "colab": {
          "base_uri": "https://localhost:8080/"
        },
        "id": "kRuK-Eh6c0eb",
        "outputId": "6f23fe05-a6e4-4603-f09e-b0520673fa4e"
      },
      "source": [
        "a = float(input())\r\n",
        "print(\"%.2f\" %a)"
      ],
      "execution_count": null,
      "outputs": [
        {
          "output_type": "stream",
          "text": [
            "1.6543\n",
            "1.65\n"
          ],
          "name": "stdout"
        }
      ]
    },
    {
      "cell_type": "code",
      "metadata": {
        "colab": {
          "base_uri": "https://localhost:8080/"
        },
        "id": "FA5lxckWdCBq",
        "outputId": "68c8e594-6681-4aeb-9775-1753eb5eb548"
      },
      "source": [
        "a = int(input())\r\n",
        "print(a,a,a)"
      ],
      "execution_count": null,
      "outputs": [
        {
          "output_type": "stream",
          "text": [
            "3\n",
            "3 3 3\n"
          ],
          "name": "stdout"
        }
      ]
    },
    {
      "cell_type": "code",
      "metadata": {
        "colab": {
          "base_uri": "https://localhost:8080/"
        },
        "id": "NSwMQ_KudZ51",
        "outputId": "2a3d2e7c-f88d-4a65-cab8-1c01e2d4a348"
      },
      "source": [
        "a, b = map(int, input().split(':'))\r\n",
        "print(a,b,sep=\":\")"
      ],
      "execution_count": null,
      "outputs": [
        {
          "output_type": "stream",
          "text": [
            "3:15\n",
            "3:15\n"
          ],
          "name": "stdout"
        }
      ]
    },
    {
      "cell_type": "code",
      "metadata": {
        "colab": {
          "base_uri": "https://localhost:8080/"
        },
        "id": "4UkCwTcEgb5S",
        "outputId": "c3f0c33a-fecb-45ab-ff5d-c6878f4acd1f"
      },
      "source": [
        "a,b,c = map(str, input().split(\".\"))\r\n",
        "# zfill함수 사용 시\r\n",
        "print(a.zfill(4),b.zfill(2),c.zfill(2),sep=\".\")\r\n",
        "# rjust함수 사용 시\r\n",
        "print(a.rjust(4, \"0\"),b.rjust(2,\"0\"),c.rjust(2,\"0\"),sep=\".\")"
      ],
      "execution_count": null,
      "outputs": [
        {
          "output_type": "stream",
          "text": [
            "2012.3.4\n",
            "2012.03.04\n",
            "2012.03.04\n"
          ],
          "name": "stdout"
        }
      ]
    },
    {
      "cell_type": "code",
      "metadata": {
        "colab": {
          "base_uri": "https://localhost:8080/"
        },
        "id": "v7nQvThTi646",
        "outputId": "82ceea99-8aed-4902-96e0-800df284fa8b"
      },
      "source": [
        "a,b = map(str, input().split(\"-\"))\r\n",
        "print(a+b)"
      ],
      "execution_count": null,
      "outputs": [
        {
          "output_type": "stream",
          "text": [
            "222222-333333\n",
            "222222333333\n"
          ],
          "name": "stdout"
        }
      ]
    },
    {
      "cell_type": "markdown",
      "metadata": {
        "id": "RkA0FxubSKon"
      },
      "source": [
        "**3일차 포기하지말기_1월 19일**\r\n"
      ]
    },
    {
      "cell_type": "code",
      "metadata": {
        "colab": {
          "base_uri": "https://localhost:8080/"
        },
        "id": "3bIt9XRKSWgI",
        "outputId": "a9f75561-e156-44dc-abe6-abccdbc4f6c0"
      },
      "source": [
        "a = str(input())\r\n",
        "print(a)"
      ],
      "execution_count": null,
      "outputs": [
        {
          "output_type": "stream",
          "text": [
            "informatics\n",
            "informatics\n"
          ],
          "name": "stdout"
        }
      ]
    },
    {
      "cell_type": "code",
      "metadata": {
        "colab": {
          "base_uri": "https://localhost:8080/"
        },
        "id": "zIVH0UAiTg8w",
        "outputId": "2543cfe4-a7cd-41f1-96ce-5e80a6e2560b"
      },
      "source": [
        "a = str(input())\r\n",
        "print(a)"
      ],
      "execution_count": null,
      "outputs": [
        {
          "output_type": "stream",
          "text": [
            "i am daseul\n",
            "i am daseul\n"
          ],
          "name": "stdout"
        }
      ]
    },
    {
      "cell_type": "code",
      "metadata": {
        "colab": {
          "base_uri": "https://localhost:8080/"
        },
        "id": "E0v1ZsrhTkX9",
        "outputId": "6ca526ba-78c2-4f53-8f49-c34fdb4a54d8"
      },
      "source": [
        "a, b = map(float,input().split('.'))\r\n",
        "print(int(a))\r\n",
        "print(int(b))"
      ],
      "execution_count": null,
      "outputs": [
        {
          "output_type": "stream",
          "text": [
            "1.2345\n",
            "1\n",
            "2345\n"
          ],
          "name": "stdout"
        }
      ]
    },
    {
      "cell_type": "code",
      "metadata": {
        "colab": {
          "base_uri": "https://localhost:8080/"
        },
        "id": "aWMxUdIVV6Bz",
        "outputId": "fac0fea2-c57d-4763-bc19-bcbe59fa560b"
      },
      "source": [
        "a = input()\r\n",
        "for i in a :\r\n",
        "    print(\"'\"+ i +\"'\")\r\n"
      ],
      "execution_count": null,
      "outputs": [
        {
          "output_type": "stream",
          "text": [
            "happy\n",
            "'h'\n",
            "'a'\n",
            "'p'\n",
            "'p'\n",
            "'y'\n"
          ],
          "name": "stdout"
        }
      ]
    },
    {
      "cell_type": "code",
      "metadata": {
        "colab": {
          "base_uri": "https://localhost:8080/"
        },
        "id": "xoq9ceDSaTfp",
        "outputId": "06d4f332-1065-4043-f22c-eac38339665b"
      },
      "source": [
        "a = input()\r\n",
        "a1 = str(int(a[0])*10000)\r\n",
        "a2 = str(int(a[1])*1000)\r\n",
        "a3 = str(int(a[2])*100)\r\n",
        "a4 = str(int(a[3])*10)\r\n",
        "a5 = str(int(a[4]))\r\n",
        "print(\"[\"+a1+\"]\")\r\n",
        "print(\"[\"+a2+\"]\")\r\n",
        "print(\"[\"+a3+\"]\")\r\n",
        "print(\"[\"+a4+\"]\")\r\n",
        "print(\"[\"+a5+\"]\")"
      ],
      "execution_count": null,
      "outputs": [
        {
          "output_type": "stream",
          "text": [
            "12345\n",
            "[10000]\n",
            "[2000]\n",
            "[300]\n",
            "[40]\n",
            "[5]\n"
          ],
          "name": "stdout"
        }
      ]
    },
    {
      "cell_type": "code",
      "metadata": {
        "colab": {
          "base_uri": "https://localhost:8080/"
        },
        "id": "izN9v7XXfhgW",
        "outputId": "175f4643-2fec-4fc1-bdee-d97a6795ca6c"
      },
      "source": [
        "h, m, s = map(int,input().split(':'))\r\n",
        "print(m)"
      ],
      "execution_count": null,
      "outputs": [
        {
          "output_type": "stream",
          "text": [
            "17:23:57\n",
            "23\n"
          ],
          "name": "stdout"
        }
      ]
    },
    {
      "cell_type": "code",
      "metadata": {
        "colab": {
          "base_uri": "https://localhost:8080/"
        },
        "id": "ZWdgzpBPf9us",
        "outputId": "a2c16e86-dbb3-439d-f4ea-e95c6f1d63c3"
      },
      "source": [
        "y,m,d = map(int,input().split('.'))\r\n",
        "print('%02d-%02d-%04d'%(d,m,y))\r\n",
        "#다솔이 풀이\r\n",
        "ymd = input().split('.')\r\n",
        "print(ymd[2],ymd[1],ymd[0],sep=\"-\")"
      ],
      "execution_count": null,
      "outputs": [
        {
          "output_type": "stream",
          "text": [
            "2012.07.05\n",
            "05-07-2012\n",
            "2012.07.05\n",
            "05-07-2012\n"
          ],
          "name": "stdout"
        }
      ]
    },
    {
      "cell_type": "markdown",
      "metadata": {
        "id": "3ui5ws9YOeoR"
      },
      "source": [
        "**4일차 졸리지만 시작_1월 20일**\r\n"
      ]
    },
    {
      "cell_type": "code",
      "metadata": {
        "id": "UeWxwSKdOpE7"
      },
      "source": [
        "a = int(input())\r\n",
        "print(a)"
      ],
      "execution_count": null,
      "outputs": []
    },
    {
      "cell_type": "code",
      "metadata": {
        "colab": {
          "base_uri": "https://localhost:8080/"
        },
        "id": "v3OpO5uLPPLI",
        "outputId": "5bd4dcba-1e75-4e52-e1c7-f2821e0e728c"
      },
      "source": [
        "b = float(input())\r\n",
        "print(\"%.11f\" %b)"
      ],
      "execution_count": null,
      "outputs": [
        {
          "output_type": "stream",
          "text": [
            "1.23456789\n",
            "1.23456789000\n"
          ],
          "name": "stdout"
        }
      ]
    },
    {
      "cell_type": "code",
      "metadata": {
        "id": "XNFpyppSQSDi"
      },
      "source": [
        "a = int(input())\r\n",
        "print(a)"
      ],
      "execution_count": null,
      "outputs": []
    },
    {
      "cell_type": "code",
      "metadata": {
        "colab": {
          "base_uri": "https://localhost:8080/"
        },
        "id": "B9gscGqcQbfK",
        "outputId": "66c95ca3-bb17-4a46-b1ae-049db33f313c"
      },
      "source": [
        "#10진수 8진수로 변환\r\n",
        "c = int(input())\r\n",
        "print(\"%o\" %c)"
      ],
      "execution_count": null,
      "outputs": [
        {
          "output_type": "stream",
          "text": [
            "10\n",
            "12\n"
          ],
          "name": "stdout"
        }
      ]
    },
    {
      "cell_type": "code",
      "metadata": {
        "colab": {
          "base_uri": "https://localhost:8080/"
        },
        "id": "wHzaox9CQpkS",
        "outputId": "6f260b9b-c57f-4780-e375-e1f5a99ccf40"
      },
      "source": [
        "#10진수 16진수로 변환\r\n",
        "d = int(input())\r\n",
        "print(\"%x\" %d)"
      ],
      "execution_count": null,
      "outputs": [
        {
          "output_type": "stream",
          "text": [
            "255\n",
            "ff\n"
          ],
          "name": "stdout"
        }
      ]
    },
    {
      "cell_type": "code",
      "metadata": {
        "colab": {
          "base_uri": "https://localhost:8080/"
        },
        "id": "XQmmTZSKRJjk",
        "outputId": "a9d5c037-48b4-416a-8448-5a697de565fe"
      },
      "source": [
        "#10진수 16진수로 변환(대문자)\r\n",
        "d = int(input())\r\n",
        "print(\"%X\" %d)"
      ],
      "execution_count": null,
      "outputs": [
        {
          "output_type": "stream",
          "text": [
            "255\n",
            "FF\n"
          ],
          "name": "stdout"
        }
      ]
    },
    {
      "cell_type": "code",
      "metadata": {
        "colab": {
          "base_uri": "https://localhost:8080/"
        },
        "id": "dxMcJEHtRZl9",
        "outputId": "8473c6ed-3715-4036-9309-c4d920c70e4e"
      },
      "source": [
        "#8진수 입력받고 싶을 때\r\n",
        "a = int(input(),8)\r\n",
        "print(\"%d\" %a)"
      ],
      "execution_count": null,
      "outputs": [
        {
          "output_type": "stream",
          "text": [
            "13\n",
            "11\n"
          ],
          "name": "stdout"
        }
      ]
    },
    {
      "cell_type": "code",
      "metadata": {
        "colab": {
          "base_uri": "https://localhost:8080/"
        },
        "id": "GHfL6DAESRsh",
        "outputId": "922f032a-fa75-4c36-8f6a-804e070b6e6a"
      },
      "source": [
        "#16진수를 입력받아 8진수로 변환\r\n",
        "b = int(input(),16)\r\n",
        "print(\"%o\" %b)"
      ],
      "execution_count": null,
      "outputs": [
        {
          "output_type": "stream",
          "text": [
            "f\n",
            "17\n"
          ],
          "name": "stdout"
        }
      ]
    },
    {
      "cell_type": "code",
      "metadata": {
        "colab": {
          "base_uri": "https://localhost:8080/"
        },
        "id": "XVWTgWmIS2fK",
        "outputId": "a6034a71-dc7a-4021-b8c8-6fc2cdc82186"
      },
      "source": [
        "#문자열을 아스키코드로 반환해주는 함수\r\n",
        "s = input()\r\n",
        "print(ord(s))"
      ],
      "execution_count": null,
      "outputs": [
        {
          "output_type": "stream",
          "text": [
            "B\n",
            "66\n"
          ],
          "name": "stdout"
        }
      ]
    },
    {
      "cell_type": "code",
      "metadata": {
        "colab": {
          "base_uri": "https://localhost:8080/"
        },
        "id": "uVnuzvPIUKIn",
        "outputId": "079984ec-fea6-4da6-ebf2-835f39b0fdf3"
      },
      "source": [
        "#아스키코드를 문자열로 반환해주는 함수\r\n",
        "s = int(input())\r\n",
        "print(chr(s))"
      ],
      "execution_count": null,
      "outputs": [
        {
          "output_type": "stream",
          "text": [
            "34\n",
            "\"\n"
          ],
          "name": "stdout"
        }
      ]
    },
    {
      "cell_type": "code",
      "metadata": {
        "colab": {
          "base_uri": "https://localhost:8080/"
        },
        "id": "TlRuMHWhYb1s",
        "outputId": "2ca5e19c-2d33-4f56-ea75-3749919a6380"
      },
      "source": [
        "a, b = map(int, input().split())\r\n",
        "print(a+b)\r\n",
        "#또 다른 풀이 \r\n",
        "a = input().split()\r\n",
        "print(int(a[0])+int(a[1]))"
      ],
      "execution_count": null,
      "outputs": [
        {
          "output_type": "stream",
          "text": [
            "123 -123\n",
            "0\n"
          ],
          "name": "stdout"
        }
      ]
    },
    {
      "cell_type": "code",
      "metadata": {
        "colab": {
          "base_uri": "https://localhost:8080/"
        },
        "id": "QJQJcRctZFWb",
        "outputId": "0a2be7ef-9b1f-4f8b-bcc9-c5c386df313d"
      },
      "source": [
        "a = int(input())\r\n",
        "print(-a)"
      ],
      "execution_count": null,
      "outputs": [
        {
          "output_type": "stream",
          "text": [
            "-1\n",
            "1\n"
          ],
          "name": "stdout"
        }
      ]
    },
    {
      "cell_type": "code",
      "metadata": {
        "colab": {
          "base_uri": "https://localhost:8080/"
        },
        "id": "23kOGr3nZW4Z",
        "outputId": "cc64647d-2183-4497-fc81-db04220f5e0e"
      },
      "source": [
        "a = input()\r\n",
        "a1 = ord(a)\r\n",
        "a2 = chr(a1+1)\r\n",
        "print(a2)"
      ],
      "execution_count": null,
      "outputs": [
        {
          "output_type": "stream",
          "text": [
            "A\n",
            "B\n"
          ],
          "name": "stdout"
        }
      ]
    },
    {
      "cell_type": "code",
      "metadata": {
        "colab": {
          "base_uri": "https://localhost:8080/"
        },
        "id": "7atXlFn-ZuKH",
        "outputId": "07051a1f-66ce-4523-de05-c0b251a60866"
      },
      "source": [
        "a,b = map(int,input().split())\r\n",
        "print(a//b)"
      ],
      "execution_count": null,
      "outputs": [
        {
          "output_type": "stream",
          "text": [
            "1 3\n",
            "0\n"
          ],
          "name": "stdout"
        }
      ]
    },
    {
      "cell_type": "code",
      "metadata": {
        "colab": {
          "base_uri": "https://localhost:8080/"
        },
        "id": "0mYizIVqaDPk",
        "outputId": "af4df53f-cfeb-498c-e038-c610c2966a2f"
      },
      "source": [
        "a,b = map(int,input().split())\r\n",
        "print(int(a%b))"
      ],
      "execution_count": null,
      "outputs": [
        {
          "output_type": "stream",
          "text": [
            "10 3\n",
            "1\n"
          ],
          "name": "stdout"
        }
      ]
    },
    {
      "cell_type": "code",
      "metadata": {
        "colab": {
          "base_uri": "https://localhost:8080/"
        },
        "id": "S_JmZRWCaKS1",
        "outputId": "62d3eebf-cafc-4915-8a9b-d84f58b2ba15"
      },
      "source": [
        "a = int(input())\r\n",
        "print(a+1)"
      ],
      "execution_count": null,
      "outputs": [
        {
          "output_type": "stream",
          "text": [
            "2147483647\n",
            "2147483648\n"
          ],
          "name": "stdout"
        }
      ]
    },
    {
      "cell_type": "code",
      "metadata": {
        "colab": {
          "base_uri": "https://localhost:8080/"
        },
        "id": "jGf7Fps9abTj",
        "outputId": "041af026-37e6-48e5-f1ea-43e716c60be1"
      },
      "source": [
        "a, b = map(int,input().split())\r\n",
        "print(a+b)\r\n",
        "print(a-b)\r\n",
        "print(a*b)\r\n",
        "print(a//b)\r\n",
        "print(a%b)\r\n",
        "c = a/b\r\n",
        "print(\"%.2f\" %c)"
      ],
      "execution_count": null,
      "outputs": [
        {
          "output_type": "stream",
          "text": [
            "10 3\n",
            "13\n",
            "7\n",
            "30\n",
            "3\n",
            "1\n",
            "3.33\n"
          ],
          "name": "stdout"
        }
      ]
    },
    {
      "cell_type": "code",
      "metadata": {
        "colab": {
          "base_uri": "https://localhost:8080/"
        },
        "id": "SuJInwf-a7jM",
        "outputId": "db41b665-8dee-4890-cc85-2cc595e0344a"
      },
      "source": [
        "#1046번 함수 이용시\r\n",
        "def avg(a,b,c):\r\n",
        "    return (a+b+c)/3\r\n",
        "a, b, c = map(int,input().split())\r\n",
        "print(a+b+c)\r\n",
        "avg(a,b,c)"
      ],
      "execution_count": null,
      "outputs": [
        {
          "output_type": "stream",
          "text": [
            "1 2 3\n",
            "6\n",
            "2.0\n"
          ],
          "name": "stdout"
        }
      ]
    },
    {
      "cell_type": "code",
      "metadata": {
        "colab": {
          "base_uri": "https://localhost:8080/"
        },
        "id": "faCubsG8d1WI",
        "outputId": "22fa58e8-ce4d-4b81-aae2-7dc0c740e579"
      },
      "source": [
        "#1046번 list 이용시\r\n",
        "a = list(map(int,input().split()))\r\n",
        "print(sum(a))\r\n",
        "b = sum(a)/len(a)\r\n",
        "print(\"%.1f\" %b) "
      ],
      "execution_count": null,
      "outputs": [
        {
          "output_type": "stream",
          "text": [
            "10 11 12\n",
            "33\n",
            "11.0\n"
          ],
          "name": "stdout"
        }
      ]
    },
    {
      "cell_type": "markdown",
      "metadata": {
        "id": "LAqtVq7Flgfe"
      },
      "source": [
        "**5일차 다솔이 놀러감_1월21일**"
      ]
    },
    {
      "cell_type": "code",
      "metadata": {
        "colab": {
          "base_uri": "https://localhost:8080/"
        },
        "id": "RKEcG1F9lopJ",
        "outputId": "8572159c-deef-40b5-f7a8-fadb45bd122d"
      },
      "source": [
        "#1047(비트연산자)\r\n",
        "a = int(input())\r\n",
        "print(a<<1)"
      ],
      "execution_count": null,
      "outputs": [
        {
          "output_type": "stream",
          "text": [
            "10\n",
            "20\n"
          ],
          "name": "stdout"
        }
      ]
    },
    {
      "cell_type": "code",
      "metadata": {
        "colab": {
          "base_uri": "https://localhost:8080/"
        },
        "id": "_G3ilK5Cm1EE",
        "outputId": "658195df-c568-4e24-e4c7-3ba7504f1264"
      },
      "source": [
        "#1048\r\n",
        "a, b = map(int,input().split())\r\n",
        "print(a<<b)"
      ],
      "execution_count": null,
      "outputs": [
        {
          "output_type": "stream",
          "text": [
            "1 3\n",
            "8\n"
          ],
          "name": "stdout"
        }
      ]
    },
    {
      "cell_type": "code",
      "metadata": {
        "colab": {
          "base_uri": "https://localhost:8080/"
        },
        "id": "MOLIZqCPnPeA",
        "outputId": "257d27b2-332d-4797-de63-119015a5cc47"
      },
      "source": [
        "#1049\r\n",
        "a,b = map(int,input().split())\r\n",
        "if a>b:\r\n",
        "    print(1)\r\n",
        "else:\r\n",
        "    print(0)"
      ],
      "execution_count": null,
      "outputs": [
        {
          "output_type": "stream",
          "text": [
            "9 1\n",
            "1\n"
          ],
          "name": "stdout"
        }
      ]
    },
    {
      "cell_type": "code",
      "metadata": {
        "colab": {
          "base_uri": "https://localhost:8080/"
        },
        "id": "In2sSsobotuF",
        "outputId": "69e79a0c-ac83-4134-bf1b-c4c5b2b548d3"
      },
      "source": [
        "#1049\r\n",
        "a, b = map(int, input().split())\r\n",
        "print(int(a>b))"
      ],
      "execution_count": null,
      "outputs": [
        {
          "output_type": "stream",
          "text": [
            "9 1\n",
            "1\n"
          ],
          "name": "stdout"
        }
      ]
    },
    {
      "cell_type": "code",
      "metadata": {
        "colab": {
          "base_uri": "https://localhost:8080/"
        },
        "id": "inGnaWCMoSL8",
        "outputId": "c97721ea-adc9-4697-a8e8-f5b694eb983c"
      },
      "source": [
        "#1050\r\n",
        "a, b = map(int, input().split())\r\n",
        "print(int(a==b))"
      ],
      "execution_count": null,
      "outputs": [
        {
          "output_type": "stream",
          "text": [
            "0 0\n",
            "1\n"
          ],
          "name": "stdout"
        }
      ]
    },
    {
      "cell_type": "code",
      "metadata": {
        "colab": {
          "base_uri": "https://localhost:8080/"
        },
        "id": "7VsB23XbpEl1",
        "outputId": "11846822-e0f5-4b0c-85d6-bfe9eda67108"
      },
      "source": [
        "#1051\r\n",
        "a,b = map(int, input().split())\r\n",
        "print(int(b>=a))"
      ],
      "execution_count": null,
      "outputs": [
        {
          "output_type": "stream",
          "text": [
            "0 -1\n",
            "0\n"
          ],
          "name": "stdout"
        }
      ]
    },
    {
      "cell_type": "code",
      "metadata": {
        "colab": {
          "base_uri": "https://localhost:8080/"
        },
        "id": "B6M_xsSGpUin",
        "outputId": "bb9773cf-b94f-44a5-eab7-1a2e3fc59ede"
      },
      "source": [
        "#1052\r\n",
        "a, b = map(int,input().split())\r\n",
        "print(int(a!=b))"
      ],
      "execution_count": null,
      "outputs": [
        {
          "output_type": "stream",
          "text": [
            "0 1\n",
            "1\n"
          ],
          "name": "stdout"
        }
      ]
    },
    {
      "cell_type": "code",
      "metadata": {
        "colab": {
          "base_uri": "https://localhost:8080/"
        },
        "id": "stZO8WcTpuKI",
        "outputId": "2820ffa7-9532-401f-9f99-8716d6dfc3c6"
      },
      "source": [
        "#1053\r\n",
        "a = int(input())\r\n",
        "if a == 1:\r\n",
        "    print(0)\r\n",
        "else:\r\n",
        "    print(1)"
      ],
      "execution_count": null,
      "outputs": [
        {
          "output_type": "stream",
          "text": [
            "1\n",
            "0\n"
          ],
          "name": "stdout"
        }
      ]
    },
    {
      "cell_type": "code",
      "metadata": {
        "colab": {
          "base_uri": "https://localhost:8080/"
        },
        "id": "kUzQIyeHq7fd",
        "outputId": "bf20453b-3d7a-4c36-b1a5-ee0d565eab42"
      },
      "source": [
        "#1053 모범답안\r\n",
        "a = int(input())\r\n",
        "b = bool(a)\r\n",
        "print(int(not b))"
      ],
      "execution_count": null,
      "outputs": [
        {
          "output_type": "stream",
          "text": [
            "1\n",
            "0\n"
          ],
          "name": "stdout"
        }
      ]
    },
    {
      "cell_type": "code",
      "metadata": {
        "colab": {
          "base_uri": "https://localhost:8080/"
        },
        "id": "Ogq_HfMfqYXG",
        "outputId": "c6192803-d25d-45b1-9e79-b5fe16952b6d"
      },
      "source": [
        "#1054\r\n",
        "a, b = map(int,input().split())\r\n",
        "a1 = bool(a)\r\n",
        "b1 = bool(b)\r\n",
        "print(int(a1 and b1))"
      ],
      "execution_count": null,
      "outputs": [
        {
          "output_type": "stream",
          "text": [
            "1 1\n",
            "1\n"
          ],
          "name": "stdout"
        }
      ]
    },
    {
      "cell_type": "code",
      "metadata": {
        "colab": {
          "base_uri": "https://localhost:8080/"
        },
        "id": "Qi0Du-a0r7Dw",
        "outputId": "ffba7201-45e3-4db4-eae3-97502db1665e"
      },
      "source": [
        "#1055\r\n",
        "a, b = map(int,input().split())\r\n",
        "a1 = bool(a)\r\n",
        "b1 = bool(b)\r\n",
        "print(int(a1 or b1))"
      ],
      "execution_count": null,
      "outputs": [
        {
          "output_type": "stream",
          "text": [
            "1 0\n",
            "1\n"
          ],
          "name": "stdout"
        }
      ]
    },
    {
      "cell_type": "code",
      "metadata": {
        "colab": {
          "base_uri": "https://localhost:8080/"
        },
        "id": "827kNYUfsL3T",
        "outputId": "04ffadc4-68f3-4f44-8d1e-056d4637ee03"
      },
      "source": [
        "#1056\r\n",
        "a, b = map(int,input().split())\r\n",
        "a1 = bool(a)\r\n",
        "b1 = bool(b)\r\n",
        "print(int((a1 and not b1)or(not a1 and b1)))"
      ],
      "execution_count": null,
      "outputs": [
        {
          "output_type": "stream",
          "text": [
            "0 1\n",
            "1\n"
          ],
          "name": "stdout"
        }
      ]
    },
    {
      "cell_type": "code",
      "metadata": {
        "colab": {
          "base_uri": "https://localhost:8080/"
        },
        "id": "OxyvaGSns4iC",
        "outputId": "adea5ecd-70aa-4352-cf1b-fbd4fc59e341"
      },
      "source": [
        "#1057\r\n",
        "a, b = map(int,input().split())\r\n",
        "a1 = bool(a)\r\n",
        "b1 = bool(b)\r\n",
        "print(int(not a and not b)or(a and b))"
      ],
      "execution_count": null,
      "outputs": [
        {
          "output_type": "stream",
          "text": [
            "0 0\n",
            "1\n"
          ],
          "name": "stdout"
        }
      ]
    },
    {
      "cell_type": "code",
      "metadata": {
        "colab": {
          "base_uri": "https://localhost:8080/"
        },
        "id": "HFIcfu4Otfta",
        "outputId": "75e2ad8c-fbf0-4981-e99f-ece5f02b40bb"
      },
      "source": [
        "#1058\r\n",
        "a, b = map(int,input().split())\r\n",
        "a1 = bool(a)\r\n",
        "b1 = bool(b)\r\n",
        "print(int(not a and not b))"
      ],
      "execution_count": null,
      "outputs": [
        {
          "output_type": "stream",
          "text": [
            "0 0\n",
            "1\n"
          ],
          "name": "stdout"
        }
      ]
    },
    {
      "cell_type": "code",
      "metadata": {
        "colab": {
          "base_uri": "https://localhost:8080/"
        },
        "id": "fQz5RYbZuX4Y",
        "outputId": "ea1318f4-bf7d-4a11-a802-5a7baf5fea62"
      },
      "source": [
        "#1059\r\n",
        "a = int(input())\r\n",
        "print(~a)"
      ],
      "execution_count": null,
      "outputs": [
        {
          "output_type": "stream",
          "text": [
            "2\n",
            "-3\n"
          ],
          "name": "stdout"
        }
      ]
    },
    {
      "cell_type": "code",
      "metadata": {
        "colab": {
          "base_uri": "https://localhost:8080/"
        },
        "id": "APp3hybGuzZO",
        "outputId": "41facf15-1ae3-463b-e68f-eabd2784ca5d"
      },
      "source": [
        "#1060\r\n",
        "#비트 단위로 바꿨을 때 두개다 1이면 1\r\n",
        "a, b = map(int, input().split())\r\n",
        "print(a&b)"
      ],
      "execution_count": null,
      "outputs": [
        {
          "output_type": "stream",
          "text": [
            "3 5\n",
            "1\n"
          ],
          "name": "stdout"
        }
      ]
    },
    {
      "cell_type": "code",
      "metadata": {
        "colab": {
          "base_uri": "https://localhost:8080/"
        },
        "id": "72IVIuRDvOhT",
        "outputId": "c769601d-5403-43cb-98a6-a482cbf40ee9"
      },
      "source": [
        "#1061\r\n",
        "#비트 단위로 바꿨을 때 하나만 1이어도 1\r\n",
        "a, b = map(int, input().split())\r\n",
        "print(a|b)"
      ],
      "execution_count": null,
      "outputs": [
        {
          "output_type": "stream",
          "text": [
            "3 5\n",
            "7\n"
          ],
          "name": "stdout"
        }
      ]
    },
    {
      "cell_type": "code",
      "metadata": {
        "colab": {
          "base_uri": "https://localhost:8080/"
        },
        "id": "uRNY5U3hvi92",
        "outputId": "be2715c4-4b5e-46cc-ca91-f28ae45c405d"
      },
      "source": [
        "#1062\r\n",
        "#비트 단위로 바꿨을 때 서로 다른 부분이 있으면 1, 같으면 0\r\n",
        "a, b = map(int, input().split())\r\n",
        "print(a^b)"
      ],
      "execution_count": null,
      "outputs": [
        {
          "output_type": "stream",
          "text": [
            "3 5\n",
            "6\n"
          ],
          "name": "stdout"
        }
      ]
    },
    {
      "cell_type": "markdown",
      "metadata": {
        "id": "wbE2Z3lyOPI_"
      },
      "source": [
        "**6일차 토요일이지만 힘내서_1월23일**"
      ]
    },
    {
      "cell_type": "code",
      "metadata": {
        "colab": {
          "base_uri": "https://localhost:8080/"
        },
        "id": "ClbJv4GaOXuT",
        "outputId": "d80620b8-9b9e-4fca-fd21-19a3ebd6ba91"
      },
      "source": [
        "#1063\r\n",
        "a, b = map(int, input().split())\r\n",
        "if a>b:\r\n",
        "    print(a)\r\n",
        "else:\r\n",
        "    print(b)"
      ],
      "execution_count": null,
      "outputs": [
        {
          "output_type": "stream",
          "text": [
            "123 456\n",
            "456\n"
          ],
          "name": "stdout"
        }
      ]
    },
    {
      "cell_type": "code",
      "metadata": {
        "colab": {
          "base_uri": "https://localhost:8080/"
        },
        "id": "3DIpfUhUPKYY",
        "outputId": "50d5efe5-c37a-4779-8fac-7afa4027ad2b"
      },
      "source": [
        "#1064\r\n",
        "a, b, c = map(int, input().split())\r\n",
        "if a>b:\r\n",
        "    if b>c:\r\n",
        "        print(c)\r\n",
        "    else:\r\n",
        "        print(b)\r\n",
        "elif a>c:\r\n",
        "    if b>c:\r\n",
        "        print(c)\r\n",
        "    else:\r\n",
        "        print(b)\r\n",
        "else:\r\n",
        "    print(a)"
      ],
      "execution_count": null,
      "outputs": [
        {
          "output_type": "stream",
          "text": [
            "1 2 3\n",
            "1\n"
          ],
          "name": "stdout"
        }
      ]
    },
    {
      "cell_type": "code",
      "metadata": {
        "colab": {
          "base_uri": "https://localhost:8080/"
        },
        "id": "3YAEkndlQ5Dk",
        "outputId": "29cc301e-90ea-46c6-96a7-3dd13324797c"
      },
      "source": [
        "#1065\r\n",
        "a, b, c = map(int, input().split())\r\n",
        "if a%2==0 :\r\n",
        "    print(a)\r\n",
        "if b%2==0 :\r\n",
        "    print(b)\r\n",
        "if c%2==0 :\r\n",
        "    print(c)"
      ],
      "execution_count": null,
      "outputs": [
        {
          "output_type": "stream",
          "text": [
            "1 2 4\n",
            "2\n",
            "4\n"
          ],
          "name": "stdout"
        }
      ]
    },
    {
      "cell_type": "code",
      "metadata": {
        "colab": {
          "base_uri": "https://localhost:8080/"
        },
        "id": "IDDlXPDSRaLO",
        "outputId": "78ac3a06-5dda-4c80-9fb1-bf534b2825c0"
      },
      "source": [
        "#1066\r\n",
        "a, b, c = map(int, input().split())\r\n",
        "if a%2==0:\r\n",
        "    print(\"even\")\r\n",
        "else:\r\n",
        "    print(\"odd\")\r\n",
        "if b%2==0:\r\n",
        "    print(\"even\")\r\n",
        "else:\r\n",
        "    print(\"odd\")\r\n",
        "if c%2==0:\r\n",
        "    print(\"even\")\r\n",
        "else:\r\n",
        "    print(\"odd\")"
      ],
      "execution_count": null,
      "outputs": [
        {
          "output_type": "stream",
          "text": [
            "1 2 8\n",
            "odd\n",
            "even\n",
            "even\n"
          ],
          "name": "stdout"
        }
      ]
    },
    {
      "cell_type": "code",
      "metadata": {
        "colab": {
          "base_uri": "https://localhost:8080/"
        },
        "id": "fiUzqSHiR0Gf",
        "outputId": "98219831-e23a-4594-ccc1-080ce60802fb"
      },
      "source": [
        "#1067\r\n",
        "a = int(input())\r\n",
        "if a>0:\r\n",
        "    if a%2==0:\r\n",
        "        print(\"plus\\neven\")\r\n",
        "    else:\r\n",
        "        print(\"plus\\nodd\")\r\n",
        "else:\r\n",
        "    if a%2==0:\r\n",
        "        print(\"minus\\neven\")\r\n",
        "    else:\r\n",
        "        print(\"minus\\nodd\")"
      ],
      "execution_count": null,
      "outputs": [
        {
          "output_type": "stream",
          "text": [
            "24\n",
            "plus\n",
            "even\n",
            "even\n"
          ],
          "name": "stdout"
        }
      ]
    },
    {
      "cell_type": "code",
      "metadata": {
        "colab": {
          "base_uri": "https://localhost:8080/"
        },
        "id": "mjOw5c6dTCxd",
        "outputId": "792ce5af-5dac-42ef-b6ce-93206fe5de6d"
      },
      "source": [
        "#1068\r\n",
        "a = int(input())\r\n",
        "if a>=90:\r\n",
        "    print(\"A\")\r\n",
        "elif a>=70:\r\n",
        "    print(\"B\")\r\n",
        "elif a>=40:\r\n",
        "    print(\"C\")\r\n",
        "else:\r\n",
        "    print(\"D\")"
      ],
      "execution_count": null,
      "outputs": [
        {
          "output_type": "stream",
          "text": [
            "73\n",
            "B\n"
          ],
          "name": "stdout"
        }
      ]
    },
    {
      "cell_type": "code",
      "metadata": {
        "colab": {
          "base_uri": "https://localhost:8080/"
        },
        "id": "miidwdu9T3MX",
        "outputId": "12787a7a-3287-40c6-ded2-db8c3cda2110"
      },
      "source": [
        "#1069\r\n",
        "T = input()\r\n",
        "if T=='A':\r\n",
        "    print('best!!!')\r\n",
        "elif T=='B':\r\n",
        "    print('good!!')\r\n",
        "elif T=='C':\r\n",
        "    print('run!')\r\n",
        "elif T=='D':\r\n",
        "    print('slowly~')\r\n",
        "else:\r\n",
        "    print('what?')"
      ],
      "execution_count": null,
      "outputs": [
        {
          "output_type": "stream",
          "text": [
            "A\n",
            "best!!!\n"
          ],
          "name": "stdout"
        }
      ]
    },
    {
      "cell_type": "code",
      "metadata": {
        "colab": {
          "base_uri": "https://localhost:8080/"
        },
        "id": "pg2zevtWU3Ro",
        "outputId": "3e322b06-c020-4418-9014-2c18499ad07f"
      },
      "source": [
        "#1070\r\n",
        "y = int(input())\r\n",
        "if 3<=y<=5:\r\n",
        "    print('spring')\r\n",
        "elif 6<=y<=8:\r\n",
        "    print('summer')\r\n",
        "elif 9<=y<=11:\r\n",
        "    print('fall')\r\n",
        "else:\r\n",
        "    print('winter')"
      ],
      "execution_count": null,
      "outputs": [
        {
          "output_type": "stream",
          "text": [
            "12\n",
            "winter\n"
          ],
          "name": "stdout"
        }
      ]
    },
    {
      "cell_type": "code",
      "metadata": {
        "colab": {
          "base_uri": "https://localhost:8080/"
        },
        "id": "Ot-zVMmzX647",
        "outputId": "aeb2738a-2e98-4993-fcb1-042a70405e2e"
      },
      "source": [
        "#1071 반복문 사용 x (*unpacking operator 사용)\r\n",
        "a = list(map(int, input().split()))\r\n",
        "print(*a,sep='\\n')"
      ],
      "execution_count": null,
      "outputs": [
        {
          "output_type": "stream",
          "text": [
            "1 2 3 0\n",
            "1\n",
            "2\n",
            "3\n",
            "0\n"
          ],
          "name": "stdout"
        }
      ]
    },
    {
      "cell_type": "code",
      "metadata": {
        "colab": {
          "base_uri": "https://localhost:8080/"
        },
        "id": "gb8KZVXTWIwt",
        "outputId": "f69c6142-f20a-47b6-ad5a-819e2f6bf93f"
      },
      "source": [
        "#1071 반복문 사용할 경우\r\n",
        "a = list(map(int, input().split()))\r\n",
        "for i in range(0,len(a)):\r\n",
        "    if a[i] == 0:\r\n",
        "        break\r\n",
        "    else:\r\n",
        "        print(a[i])\r\n",
        "\r\n",
        "#다솔이 풀이(str일때)\r\n",
        "a = input().split()\r\n",
        "for n in a:\r\n",
        "    if n =='0':\r\n",
        "        break\r\n",
        "    print(n)"
      ],
      "execution_count": null,
      "outputs": [
        {
          "output_type": "stream",
          "text": [
            "1 5 0 6 8\n",
            "1\n",
            "5\n",
            "1 5 0 6 8 \n",
            "1\n",
            "5\n"
          ],
          "name": "stdout"
        }
      ]
    },
    {
      "cell_type": "code",
      "metadata": {
        "colab": {
          "base_uri": "https://localhost:8080/"
        },
        "id": "sZD_YPHYXtpi",
        "outputId": "f952c264-6d53-4bea-d45a-fedde26703c6"
      },
      "source": [
        "#1072\r\n",
        "a = int(input())\r\n",
        "b = list(map(int,input().split()))\r\n",
        "for i in b:\r\n",
        "    print(i)"
      ],
      "execution_count": null,
      "outputs": [
        {
          "output_type": "stream",
          "text": [
            "5\n",
            "1 2 3 4\n",
            "1\n",
            "2\n",
            "3\n",
            "4\n"
          ],
          "name": "stdout"
        }
      ]
    },
    {
      "cell_type": "code",
      "metadata": {
        "id": "OC52A29xbSv7"
      },
      "source": [
        "#1073\r\n",
        "a = list(map(int, input().split()))\r\n",
        "for i in range(0,len(a)):\r\n",
        "    if a[i] == 0:\r\n",
        "        break\r\n",
        "    else:\r\n",
        "        print(a[i])\r\n",
        "\r\n",
        "#다솔이 풀이(int일때)\r\n",
        "a = map(int,input().split())\r\n",
        "for i in a:\r\n",
        "    if i==0:\r\n",
        "        break\r\n",
        "    print(i)"
      ],
      "execution_count": null,
      "outputs": []
    },
    {
      "cell_type": "code",
      "metadata": {
        "colab": {
          "base_uri": "https://localhost:8080/"
        },
        "id": "Ywy1-hVfbdTJ",
        "outputId": "7bf8b0e9-a958-49f4-c71e-e81279dee35d"
      },
      "source": [
        "#1074\r\n",
        "a = int(input())\r\n",
        "while a!=0:\r\n",
        "    print(a)\r\n",
        "    a = a-1"
      ],
      "execution_count": null,
      "outputs": [
        {
          "output_type": "stream",
          "text": [
            "5\n",
            "5\n",
            "4\n",
            "3\n",
            "2\n",
            "1\n"
          ],
          "name": "stdout"
        }
      ]
    },
    {
      "cell_type": "code",
      "metadata": {
        "colab": {
          "base_uri": "https://localhost:8080/"
        },
        "id": "UFe8UNGfc5Uh",
        "outputId": "1d2a8b70-d66f-4885-d68e-d12b39415490"
      },
      "source": [
        "#1075\r\n",
        "a = int(input())\r\n",
        "while a!=0:\r\n",
        "    a = a-1\r\n",
        "    print(a)"
      ],
      "execution_count": null,
      "outputs": [
        {
          "output_type": "stream",
          "text": [
            "5\n",
            "4\n",
            "3\n",
            "2\n",
            "1\n",
            "0\n"
          ],
          "name": "stdout"
        }
      ]
    },
    {
      "cell_type": "code",
      "metadata": {
        "colab": {
          "base_uri": "https://localhost:8080/"
        },
        "id": "GKdMP7VwdPiH",
        "outputId": "5a787844-101e-4086-dea4-694d4d24d598"
      },
      "source": [
        "#1076\r\n",
        "a = input()\r\n",
        "k = ord('a')\r\n",
        "for i in range(97,k+1):\r\n",
        "    print(chr(i), end=' ')"
      ],
      "execution_count": 34,
      "outputs": [
        {
          "output_type": "stream",
          "text": [
            "98\n",
            "a "
          ],
          "name": "stdout"
        }
      ]
    },
    {
      "cell_type": "code",
      "metadata": {
        "colab": {
          "base_uri": "https://localhost:8080/"
        },
        "id": "pEbvFWbweMfE",
        "outputId": "6c139131-58c5-4610-f843-d76574ded588"
      },
      "source": [
        "#1077\r\n",
        "a = int(input())\r\n",
        "for i in range(0,a+1):\r\n",
        "    print(i)"
      ],
      "execution_count": null,
      "outputs": [
        {
          "output_type": "stream",
          "text": [
            "4\n",
            "0\n",
            "1\n",
            "2\n",
            "3\n",
            "4\n"
          ],
          "name": "stdout"
        }
      ]
    }
  ]
}