{
  "nbformat": 4,
  "nbformat_minor": 0,
  "metadata": {
    "colab": {
      "name": "210127(10일차)_이틀만더!.ipynb",
      "provenance": [],
      "authorship_tag": "ABX9TyOLroD6A74nqi7m6nJ3vpUl",
      "include_colab_link": true
    },
    "kernelspec": {
      "name": "python3",
      "display_name": "Python 3"
    }
  },
  "cells": [
    {
      "cell_type": "markdown",
      "metadata": {
        "id": "view-in-github",
        "colab_type": "text"
      },
      "source": [
        "<a href=\"https://colab.research.google.com/github/dasssseul/Hello/blob/main/210127(10%EC%9D%BC%EC%B0%A8)_%EC%9D%B4%ED%8B%80%EB%A7%8C%EB%8D%94!.ipynb\" target=\"_parent\"><img src=\"https://colab.research.google.com/assets/colab-badge.svg\" alt=\"Open In Colab\"/></a>"
      ]
    },
    {
      "cell_type": "code",
      "metadata": {
        "colab": {
          "base_uri": "https://localhost:8080/"
        },
        "id": "WeCIlJkeoFz-",
        "outputId": "967a494d-938c-48da-fbcc-b497153dd958"
      },
      "source": [
        "#1088\r\n",
        "a = int(input())\r\n",
        "for i in range(1,a+1):\r\n",
        "    if i<=a:\r\n",
        "        if i%3==0:\r\n",
        "            continue\r\n",
        "        else:\r\n",
        "            print(i,end=' ')\r\n",
        "    else:\r\n",
        "        break"
      ],
      "execution_count": 2,
      "outputs": [
        {
          "output_type": "stream",
          "text": [
            "10\n",
            "1 2 4 5 7 8 10 "
          ],
          "name": "stdout"
        }
      ]
    },
    {
      "cell_type": "code",
      "metadata": {
        "colab": {
          "base_uri": "https://localhost:8080/"
        },
        "id": "fuUu_3vjpGun",
        "outputId": "25365392-6f4a-44e2-c52c-21e40235d3e3"
      },
      "source": [
        "#1089\r\n",
        "a, b, c = map(int, input().split())\r\n",
        "print(a+b*(c-1))"
      ],
      "execution_count": 4,
      "outputs": [
        {
          "output_type": "stream",
          "text": [
            "1 3 5\n",
            "13\n"
          ],
          "name": "stdout"
        }
      ]
    },
    {
      "cell_type": "code",
      "metadata": {
        "colab": {
          "base_uri": "https://localhost:8080/"
        },
        "id": "jC9XKCH6prMo",
        "outputId": "558ab265-9e87-469a-8194-c3baa658e8f1"
      },
      "source": [
        "#1090\r\n",
        "a, b, c = map(int, input().split())\r\n",
        "print(a*b**(c-1))"
      ],
      "execution_count": 6,
      "outputs": [
        {
          "output_type": "stream",
          "text": [
            "2 3 7\n",
            "1458\n"
          ],
          "name": "stdout"
        }
      ]
    },
    {
      "cell_type": "code",
      "metadata": {
        "colab": {
          "base_uri": "https://localhost:8080/"
        },
        "id": "K8zerJEZp_tK",
        "outputId": "192b5e4d-2f47-4e1f-81b8-693fd22a8b66"
      },
      "source": [
        "#1091\r\n",
        "a, b, c, d = map(int, input().split())\r\n",
        "for i in range(1,d):\r\n",
        "    a = a*b+c\r\n",
        "print(a)"
      ],
      "execution_count": 7,
      "outputs": [
        {
          "output_type": "stream",
          "text": [
            "1 -2 1 8\n",
            "-85\n"
          ],
          "name": "stdout"
        }
      ]
    },
    {
      "cell_type": "code",
      "metadata": {
        "colab": {
          "base_uri": "https://localhost:8080/"
        },
        "id": "jWzk3fEKswgT",
        "outputId": "eff2d4f0-5f7e-4668-f80c-0de061bd4925"
      },
      "source": [
        "#1092 최소공배수\r\n",
        "a, b, c = map(int, input().split())\r\n",
        "for i in range(1, a*b*c+1):\r\n",
        "    if i%a==0 and i%b==0 and i%c==0:\r\n",
        "        print(i)\r\n",
        "        break"
      ],
      "execution_count": 8,
      "outputs": [
        {
          "output_type": "stream",
          "text": [
            "3 7 9\n",
            "63\n"
          ],
          "name": "stdout"
        }
      ]
    },
    {
      "cell_type": "code",
      "metadata": {
        "colab": {
          "base_uri": "https://localhost:8080/"
        },
        "id": "NhqCddjluFi2",
        "outputId": "7699de56-9ed0-4e2c-848e-cb6db06fb57d"
      },
      "source": [
        "#1093\r\n",
        "n = input()\r\n",
        "a = list(map(int, input().split()))\r\n",
        "x = []\r\n",
        "for i in range(1, 24):\r\n",
        "    x.append(a.count(i))\r\n",
        "for j in x:\r\n",
        "    print(j,end=' ')"
      ],
      "execution_count": 17,
      "outputs": [
        {
          "output_type": "stream",
          "text": [
            "10\n",
            "1 3 2 2 5 6 7 4 5 9\n",
            "1 2 1 1 2 1 1 0 1 0 0 0 0 0 0 0 0 0 0 0 0 0 0 "
          ],
          "name": "stdout"
        }
      ]
    },
    {
      "cell_type": "code",
      "metadata": {
        "colab": {
          "base_uri": "https://localhost:8080/"
        },
        "id": "JIQmKb9jzqoe",
        "outputId": "efad560c-54e3-43ea-ea6b-628e34e41337"
      },
      "source": [
        "#1093 더쉽게\r\n",
        "n = input()\r\n",
        "a = list(map(int, input().split()))\r\n",
        "for i in range(1, 24):\r\n",
        "    x = a.count(i)\r\n",
        "    print(x, end=' ')"
      ],
      "execution_count": 19,
      "outputs": [
        {
          "output_type": "stream",
          "text": [
            "10\n",
            "1 3 2 2 5 6 7 4 5 9\n",
            "1 2 1 1 2 1 1 0 1 0 0 0 0 0 0 0 0 0 0 0 0 0 0 "
          ],
          "name": "stdout"
        }
      ]
    }
  ]
}