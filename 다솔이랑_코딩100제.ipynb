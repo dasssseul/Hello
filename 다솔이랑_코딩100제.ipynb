{
  "nbformat": 4,
  "nbformat_minor": 0,
  "metadata": {
    "colab": {
      "name": "다솔이랑 코딩100제.ipynb",
      "provenance": [],
      "authorship_tag": "ABX9TyPEhSuNPzJmYcaPf4YLZ+ku",
      "include_colab_link": true
    },
    "kernelspec": {
      "name": "python3",
      "display_name": "Python 3"
    }
  },
  "cells": [
    {
      "cell_type": "markdown",
      "metadata": {
        "id": "view-in-github",
        "colab_type": "text"
      },
      "source": [
        "<a href=\"https://colab.research.google.com/github/dasssseul/Hello/blob/main/%EB%8B%A4%EC%86%94%EC%9D%B4%EB%9E%91_%EC%BD%94%EB%94%A9100%EC%A0%9C.ipynb\" target=\"_parent\"><img src=\"https://colab.research.google.com/assets/colab-badge.svg\" alt=\"Open In Colab\"/></a>"
      ]
    },
    {
      "cell_type": "markdown",
      "metadata": {
        "id": "-2hRuBvJ0RQx"
      },
      "source": [
        "**1일차 파이팅_1월 7일**"
      ]
    },
    {
      "cell_type": "code",
      "metadata": {
        "colab": {
          "base_uri": "https://localhost:8080/"
        },
        "id": "gI97ziUrtC55",
        "outputId": "f5877146-fc77-488e-9d20-60019b514edc"
      },
      "source": [
        "print('Hello')"
      ],
      "execution_count": null,
      "outputs": [
        {
          "output_type": "stream",
          "text": [
            "Hello\n"
          ],
          "name": "stdout"
        }
      ]
    },
    {
      "cell_type": "code",
      "metadata": {
        "colab": {
          "base_uri": "https://localhost:8080/"
        },
        "id": "QkYEzKodwCtC",
        "outputId": "4a9f2475-32ba-45c6-e1a8-5d16088f0522"
      },
      "source": [
        "print('Hello World')"
      ],
      "execution_count": null,
      "outputs": [
        {
          "output_type": "stream",
          "text": [
            "Hello World\n"
          ],
          "name": "stdout"
        }
      ]
    },
    {
      "cell_type": "code",
      "metadata": {
        "colab": {
          "base_uri": "https://localhost:8080/"
        },
        "id": "1UkmScs5w8Rh",
        "outputId": "4174fefa-df57-4e7c-d1e8-d96ffdb0733a"
      },
      "source": [
        "print('Hello\\nWorld')"
      ],
      "execution_count": null,
      "outputs": [
        {
          "output_type": "stream",
          "text": [
            "Hello\n",
            "World\n"
          ],
          "name": "stdout"
        }
      ]
    },
    {
      "cell_type": "code",
      "metadata": {
        "colab": {
          "base_uri": "https://localhost:8080/"
        },
        "id": "x4vz7JcixCcX",
        "outputId": "8bd016e1-d332-487b-86f8-134d2e7b1cfe"
      },
      "source": [
        "print(\"'Hello'\")"
      ],
      "execution_count": null,
      "outputs": [
        {
          "output_type": "stream",
          "text": [
            "'Hello'\n"
          ],
          "name": "stdout"
        }
      ]
    },
    {
      "cell_type": "code",
      "metadata": {
        "colab": {
          "base_uri": "https://localhost:8080/"
        },
        "id": "1Ip1qsZGx8AP",
        "outputId": "355f0ffb-ce71-47e9-e8ca-ff9ad6c581be"
      },
      "source": [
        "print('\"Hello World\"')"
      ],
      "execution_count": null,
      "outputs": [
        {
          "output_type": "stream",
          "text": [
            "\"Hello World\"\n"
          ],
          "name": "stdout"
        }
      ]
    },
    {
      "cell_type": "code",
      "metadata": {
        "colab": {
          "base_uri": "https://localhost:8080/"
        },
        "id": "gHYOBm0xtN-C",
        "outputId": "4258d606-66ce-455c-afd8-7a1f2a31dca5"
      },
      "source": [
        "print('\"!@#$%^&*()\"')"
      ],
      "execution_count": null,
      "outputs": [
        {
          "output_type": "stream",
          "text": [
            "\"!@#$%^&*()\"\n"
          ],
          "name": "stdout"
        }
      ]
    },
    {
      "cell_type": "code",
      "metadata": {
        "colab": {
          "base_uri": "https://localhost:8080/"
        },
        "id": "fGSxG9dKtjwp",
        "outputId": "78714c41-a1dd-4fd0-f6b1-778e345b0f00"
      },
      "source": [
        "print('\"C:\\Download\\hello.cpp\"')"
      ],
      "execution_count": null,
      "outputs": [
        {
          "output_type": "stream",
          "text": [
            "\"C:\\Download\\hello.cpp\"\n"
          ],
          "name": "stdout"
        }
      ]
    },
    {
      "cell_type": "code",
      "metadata": {
        "colab": {
          "base_uri": "https://localhost:8080/"
        },
        "id": "x5aWEnDmt90h",
        "outputId": "dfa1f943-2dda-4a0d-d269-1b2d952afd0b"
      },
      "source": [
        "print(\"\\u250C\\u252C\\u2510\\n\\u251C\\u253C\\u2524\\n\\u2514\\u2534\\u2518\")"
      ],
      "execution_count": null,
      "outputs": [
        {
          "output_type": "stream",
          "text": [
            "┌┬┐\n",
            "├┼┤\n",
            "└┴┘\n"
          ],
          "name": "stdout"
        }
      ]
    },
    {
      "cell_type": "markdown",
      "metadata": {
        "id": "hevTmVgOQx0w"
      },
      "source": [
        "**2일차 다시시작_1월18일**"
      ]
    },
    {
      "cell_type": "code",
      "metadata": {
        "colab": {
          "base_uri": "https://localhost:8080/"
        },
        "id": "RPA6xr1BQxLE",
        "outputId": "c92071ca-a841-4717-f9f5-7d8da96ec61b"
      },
      "source": [
        "a = int(input())\r\n",
        "print(a)"
      ],
      "execution_count": null,
      "outputs": [
        {
          "output_type": "stream",
          "text": [
            "10\n",
            "10\n"
          ],
          "name": "stdout"
        }
      ]
    },
    {
      "cell_type": "code",
      "metadata": {
        "colab": {
          "base_uri": "https://localhost:8080/"
        },
        "id": "oiVGruedULFQ",
        "outputId": "2c3a6e10-27dc-47c3-ce69-be81974e14de"
      },
      "source": [
        "b = str(input())\r\n",
        "print(b)"
      ],
      "execution_count": null,
      "outputs": [
        {
          "output_type": "stream",
          "text": [
            "안녕\n",
            "안녕\n"
          ],
          "name": "stdout"
        }
      ]
    },
    {
      "cell_type": "code",
      "metadata": {
        "colab": {
          "base_uri": "https://localhost:8080/"
        },
        "id": "yq54aSrbVOcs",
        "outputId": "ff0d441d-4aaf-4bef-ba75-917dbc8876ef"
      },
      "source": [
        "c = float(input())\r\n",
        "print(round(c,6))"
      ],
      "execution_count": null,
      "outputs": [
        {
          "output_type": "stream",
          "text": [
            "1.4567890\n",
            "1.456789\n"
          ],
          "name": "stdout"
        }
      ]
    },
    {
      "cell_type": "code",
      "metadata": {
        "colab": {
          "base_uri": "https://localhost:8080/"
        },
        "id": "C2rwQo8kXxlX",
        "outputId": "8e81ea60-59ca-43d4-8b94-dcb970d79888"
      },
      "source": [
        "x = float(input())\r\n",
        "print(\"%.6f\" %x)"
      ],
      "execution_count": null,
      "outputs": [
        {
          "output_type": "stream",
          "text": [
            "1.23456789\n",
            "1.234568\n"
          ],
          "name": "stdout"
        }
      ]
    },
    {
      "cell_type": "code",
      "metadata": {
        "colab": {
          "base_uri": "https://localhost:8080/"
        },
        "id": "ROWoRnplcDdN",
        "outputId": "2ccb37c7-dbe3-41e8-f572-a06edfe342dc"
      },
      "source": [
        "a, b = map(int, input().split())\r\n",
        "print(a, b)"
      ],
      "execution_count": null,
      "outputs": [
        {
          "output_type": "stream",
          "text": [
            "1 2\n",
            "1 2\n"
          ],
          "name": "stdout"
        }
      ]
    },
    {
      "cell_type": "code",
      "metadata": {
        "colab": {
          "base_uri": "https://localhost:8080/"
        },
        "id": "INwhDDpTcZbq",
        "outputId": "be0b21a8-7314-4bdc-8545-2795df660636"
      },
      "source": [
        "a, b = map(str, input().split())\r\n",
        "print(b,a)"
      ],
      "execution_count": null,
      "outputs": [
        {
          "output_type": "stream",
          "text": [
            "안녕 다슬\n",
            "다슬 안녕\n"
          ],
          "name": "stdout"
        }
      ]
    },
    {
      "cell_type": "code",
      "metadata": {
        "colab": {
          "base_uri": "https://localhost:8080/"
        },
        "id": "kRuK-Eh6c0eb",
        "outputId": "6f23fe05-a6e4-4603-f09e-b0520673fa4e"
      },
      "source": [
        "a = float(input())\r\n",
        "print(\"%.2f\" %a)"
      ],
      "execution_count": null,
      "outputs": [
        {
          "output_type": "stream",
          "text": [
            "1.6543\n",
            "1.65\n"
          ],
          "name": "stdout"
        }
      ]
    },
    {
      "cell_type": "code",
      "metadata": {
        "colab": {
          "base_uri": "https://localhost:8080/"
        },
        "id": "FA5lxckWdCBq",
        "outputId": "68c8e594-6681-4aeb-9775-1753eb5eb548"
      },
      "source": [
        "a = int(input())\r\n",
        "print(a,a,a)"
      ],
      "execution_count": null,
      "outputs": [
        {
          "output_type": "stream",
          "text": [
            "3\n",
            "3 3 3\n"
          ],
          "name": "stdout"
        }
      ]
    },
    {
      "cell_type": "code",
      "metadata": {
        "colab": {
          "base_uri": "https://localhost:8080/"
        },
        "id": "NSwMQ_KudZ51",
        "outputId": "0adfb735-8011-4fd4-e8c9-ae1198515c9f"
      },
      "source": [
        "a, b = map(int, input().split(':'))\r\n",
        "print(a,b,sep=\":\")"
      ],
      "execution_count": null,
      "outputs": [
        {
          "output_type": "stream",
          "text": [
            "3:15\n",
            "3:15\n"
          ],
          "name": "stdout"
        }
      ]
    },
    {
      "cell_type": "code",
      "metadata": {
        "colab": {
          "base_uri": "https://localhost:8080/"
        },
        "id": "4UkCwTcEgb5S",
        "outputId": "b046a52c-4906-413c-91b2-9c23323338fc"
      },
      "source": [
        "a,b,c = map(str, input().split(\".\"))\r\n",
        "print(a.zfill(4),b.zfill(2),c.zfill(2),sep=\".\")"
      ],
      "execution_count": null,
      "outputs": [
        {
          "output_type": "stream",
          "text": [
            "2012.3.4\n",
            "2012.03.04\n"
          ],
          "name": "stdout"
        }
      ]
    },
    {
      "cell_type": "code",
      "metadata": {
        "colab": {
          "base_uri": "https://localhost:8080/"
        },
        "id": "v7nQvThTi646",
        "outputId": "82ceea99-8aed-4902-96e0-800df284fa8b"
      },
      "source": [
        "a,b = map(str, input().split(\"-\"))\r\n",
        "print(a+b)"
      ],
      "execution_count": null,
      "outputs": [
        {
          "output_type": "stream",
          "text": [
            "222222-333333\n",
            "222222333333\n"
          ],
          "name": "stdout"
        }
      ]
    },
    {
      "cell_type": "markdown",
      "metadata": {
        "id": "RkA0FxubSKon"
      },
      "source": [
        "**3일차 포기하지말기_1월 19일**\r\n"
      ]
    },
    {
      "cell_type": "code",
      "metadata": {
        "colab": {
          "base_uri": "https://localhost:8080/"
        },
        "id": "3bIt9XRKSWgI",
        "outputId": "a9f75561-e156-44dc-abe6-abccdbc4f6c0"
      },
      "source": [
        "a = str(input())\r\n",
        "print(a)"
      ],
      "execution_count": null,
      "outputs": [
        {
          "output_type": "stream",
          "text": [
            "informatics\n",
            "informatics\n"
          ],
          "name": "stdout"
        }
      ]
    },
    {
      "cell_type": "code",
      "metadata": {
        "colab": {
          "base_uri": "https://localhost:8080/"
        },
        "id": "zIVH0UAiTg8w",
        "outputId": "2543cfe4-a7cd-41f1-96ce-5e80a6e2560b"
      },
      "source": [
        "a = str(input())\r\n",
        "print(a)"
      ],
      "execution_count": null,
      "outputs": [
        {
          "output_type": "stream",
          "text": [
            "i am daseul\n",
            "i am daseul\n"
          ],
          "name": "stdout"
        }
      ]
    },
    {
      "cell_type": "code",
      "metadata": {
        "colab": {
          "base_uri": "https://localhost:8080/"
        },
        "id": "E0v1ZsrhTkX9",
        "outputId": "6ca526ba-78c2-4f53-8f49-c34fdb4a54d8"
      },
      "source": [
        "a, b = map(float,input().split('.'))\r\n",
        "print(int(a))\r\n",
        "print(int(b))"
      ],
      "execution_count": null,
      "outputs": [
        {
          "output_type": "stream",
          "text": [
            "1.2345\n",
            "1\n",
            "2345\n"
          ],
          "name": "stdout"
        }
      ]
    },
    {
      "cell_type": "code",
      "metadata": {
        "colab": {
          "base_uri": "https://localhost:8080/"
        },
        "id": "aWMxUdIVV6Bz",
        "outputId": "fac0fea2-c57d-4763-bc19-bcbe59fa560b"
      },
      "source": [
        "a = input()\r\n",
        "for i in a :\r\n",
        "    print(\"'\"+ i +\"'\")\r\n"
      ],
      "execution_count": null,
      "outputs": [
        {
          "output_type": "stream",
          "text": [
            "happy\n",
            "'h'\n",
            "'a'\n",
            "'p'\n",
            "'p'\n",
            "'y'\n"
          ],
          "name": "stdout"
        }
      ]
    },
    {
      "cell_type": "code",
      "metadata": {
        "colab": {
          "base_uri": "https://localhost:8080/"
        },
        "id": "xoq9ceDSaTfp",
        "outputId": "06d4f332-1065-4043-f22c-eac38339665b"
      },
      "source": [
        "a = input()\r\n",
        "a1 = str(int(a[0])*10000)\r\n",
        "a2 = str(int(a[1])*1000)\r\n",
        "a3 = str(int(a[2])*100)\r\n",
        "a4 = str(int(a[3])*10)\r\n",
        "a5 = str(int(a[4]))\r\n",
        "print(\"[\"+a1+\"]\")\r\n",
        "print(\"[\"+a2+\"]\")\r\n",
        "print(\"[\"+a3+\"]\")\r\n",
        "print(\"[\"+a4+\"]\")\r\n",
        "print(\"[\"+a5+\"]\")"
      ],
      "execution_count": null,
      "outputs": [
        {
          "output_type": "stream",
          "text": [
            "12345\n",
            "[10000]\n",
            "[2000]\n",
            "[300]\n",
            "[40]\n",
            "[5]\n"
          ],
          "name": "stdout"
        }
      ]
    },
    {
      "cell_type": "code",
      "metadata": {
        "colab": {
          "base_uri": "https://localhost:8080/"
        },
        "id": "izN9v7XXfhgW",
        "outputId": "175f4643-2fec-4fc1-bdee-d97a6795ca6c"
      },
      "source": [
        "h, m, s = map(int,input().split(':'))\r\n",
        "print(m)"
      ],
      "execution_count": null,
      "outputs": [
        {
          "output_type": "stream",
          "text": [
            "17:23:57\n",
            "23\n"
          ],
          "name": "stdout"
        }
      ]
    },
    {
      "cell_type": "code",
      "metadata": {
        "colab": {
          "base_uri": "https://localhost:8080/"
        },
        "id": "ZWdgzpBPf9us",
        "outputId": "4c1037b2-caec-414a-d8e3-b32d7dcf7343"
      },
      "source": [
        "y,m,d = map(int,input().split('.'))\r\n",
        "print('%02d-%02d-%04d'%(d,m,y))"
      ],
      "execution_count": null,
      "outputs": [
        {
          "output_type": "stream",
          "text": [
            "2014.07.15\n",
            "15-07-2014\n"
          ],
          "name": "stdout"
        }
      ]
    },
    {
      "cell_type": "markdown",
      "metadata": {
        "id": "3ui5ws9YOeoR"
      },
      "source": [
        "**4일차 졸리지만 시작_1월 20일**\r\n"
      ]
    },
    {
      "cell_type": "code",
      "metadata": {
        "id": "UeWxwSKdOpE7"
      },
      "source": [
        "a = int(input())\r\n",
        "print(a)"
      ],
      "execution_count": null,
      "outputs": []
    },
    {
      "cell_type": "code",
      "metadata": {
        "colab": {
          "base_uri": "https://localhost:8080/"
        },
        "id": "v3OpO5uLPPLI",
        "outputId": "5bd4dcba-1e75-4e52-e1c7-f2821e0e728c"
      },
      "source": [
        "b = float(input())\r\n",
        "print(\"%.11f\" %b)"
      ],
      "execution_count": 4,
      "outputs": [
        {
          "output_type": "stream",
          "text": [
            "1.23456789\n",
            "1.23456789000\n"
          ],
          "name": "stdout"
        }
      ]
    },
    {
      "cell_type": "code",
      "metadata": {
        "id": "XNFpyppSQSDi"
      },
      "source": [
        "a = int(input())\r\n",
        "print(a)"
      ],
      "execution_count": null,
      "outputs": []
    },
    {
      "cell_type": "code",
      "metadata": {
        "colab": {
          "base_uri": "https://localhost:8080/"
        },
        "id": "B9gscGqcQbfK",
        "outputId": "66c95ca3-bb17-4a46-b1ae-049db33f313c"
      },
      "source": [
        "#10진수 8진수로 변환\r\n",
        "c = int(input())\r\n",
        "print(\"%o\" %c)"
      ],
      "execution_count": 5,
      "outputs": [
        {
          "output_type": "stream",
          "text": [
            "10\n",
            "12\n"
          ],
          "name": "stdout"
        }
      ]
    },
    {
      "cell_type": "code",
      "metadata": {
        "colab": {
          "base_uri": "https://localhost:8080/"
        },
        "id": "wHzaox9CQpkS",
        "outputId": "6f260b9b-c57f-4780-e375-e1f5a99ccf40"
      },
      "source": [
        "#10진수 16진수로 변환\r\n",
        "d = int(input())\r\n",
        "print(\"%x\" %d)"
      ],
      "execution_count": 8,
      "outputs": [
        {
          "output_type": "stream",
          "text": [
            "255\n",
            "ff\n"
          ],
          "name": "stdout"
        }
      ]
    },
    {
      "cell_type": "code",
      "metadata": {
        "colab": {
          "base_uri": "https://localhost:8080/"
        },
        "id": "XQmmTZSKRJjk",
        "outputId": "a9d5c037-48b4-416a-8448-5a697de565fe"
      },
      "source": [
        "#10진수 16진수로 변환(대문자)\r\n",
        "d = int(input())\r\n",
        "print(\"%X\" %d)"
      ],
      "execution_count": 9,
      "outputs": [
        {
          "output_type": "stream",
          "text": [
            "255\n",
            "FF\n"
          ],
          "name": "stdout"
        }
      ]
    },
    {
      "cell_type": "code",
      "metadata": {
        "colab": {
          "base_uri": "https://localhost:8080/"
        },
        "id": "dxMcJEHtRZl9",
        "outputId": "8473c6ed-3715-4036-9309-c4d920c70e4e"
      },
      "source": [
        "#8진수 입력받고 싶을 때\r\n",
        "a = int(input(),8)\r\n",
        "print(\"%d\" %a)"
      ],
      "execution_count": 11,
      "outputs": [
        {
          "output_type": "stream",
          "text": [
            "13\n",
            "11\n"
          ],
          "name": "stdout"
        }
      ]
    },
    {
      "cell_type": "code",
      "metadata": {
        "colab": {
          "base_uri": "https://localhost:8080/"
        },
        "id": "GHfL6DAESRsh",
        "outputId": "922f032a-fa75-4c36-8f6a-804e070b6e6a"
      },
      "source": [
        "#16진수를 입력받아 8진수로 변환\r\n",
        "b = int(input(),16)\r\n",
        "print(\"%o\" %b)"
      ],
      "execution_count": 13,
      "outputs": [
        {
          "output_type": "stream",
          "text": [
            "f\n",
            "17\n"
          ],
          "name": "stdout"
        }
      ]
    },
    {
      "cell_type": "code",
      "metadata": {
        "colab": {
          "base_uri": "https://localhost:8080/"
        },
        "id": "XVWTgWmIS2fK",
        "outputId": "99a52886-c04d-400a-ec0b-95d3710bb95b"
      },
      "source": [
        "#문자열을 아스키코드로 반환해주는 함수\r\n",
        "s = input()\r\n",
        "print(ord(s))"
      ],
      "execution_count": 18,
      "outputs": [
        {
          "output_type": "stream",
          "text": [
            "A\n",
            "65\n"
          ],
          "name": "stdout"
        }
      ]
    },
    {
      "cell_type": "code",
      "metadata": {
        "colab": {
          "base_uri": "https://localhost:8080/"
        },
        "id": "uVnuzvPIUKIn",
        "outputId": "079984ec-fea6-4da6-ebf2-835f39b0fdf3"
      },
      "source": [
        "#아스키코드를 문자열로 반환해주는 함수\r\n",
        "s = int(input())\r\n",
        "print(chr(s))"
      ],
      "execution_count": 21,
      "outputs": [
        {
          "output_type": "stream",
          "text": [
            "34\n",
            "\"\n"
          ],
          "name": "stdout"
        }
      ]
    }
  ]
}