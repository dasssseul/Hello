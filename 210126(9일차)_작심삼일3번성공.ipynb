{
  "nbformat": 4,
  "nbformat_minor": 0,
  "metadata": {
    "colab": {
      "name": "210126(9일차)_작심삼일3번성공.ipynb",
      "provenance": [],
      "authorship_tag": "ABX9TyNGrH0VjPnHFjOzNIc34xGo",
      "include_colab_link": true
    },
    "kernelspec": {
      "name": "python3",
      "display_name": "Python 3"
    }
  },
  "cells": [
    {
      "cell_type": "markdown",
      "metadata": {
        "id": "view-in-github",
        "colab_type": "text"
      },
      "source": [
        "<a href=\"https://colab.research.google.com/github/dasssseul/Hello/blob/main/210126(9%EC%9D%BC%EC%B0%A8)_%EC%9E%91%EC%8B%AC%EC%82%BC%EC%9D%BC3%EB%B2%88%EC%84%B1%EA%B3%B5.ipynb\" target=\"_parent\"><img src=\"https://colab.research.google.com/assets/colab-badge.svg\" alt=\"Open In Colab\"/></a>"
      ]
    },
    {
      "cell_type": "code",
      "metadata": {
        "colab": {
          "base_uri": "https://localhost:8080/"
        },
        "id": "e5IAwsvZT5Fg",
        "outputId": "94b01c9d-dca3-437c-b584-bb462b744a9f"
      },
      "source": [
        "#1083\r\n",
        "a = int(input())\r\n",
        "for i in range(1,10):\r\n",
        "    if i <= a:\r\n",
        "        if i == 3 or i == 6 or i == 9 :\r\n",
        "            print('X', end=' ')\r\n",
        "        else:\r\n",
        "            print(i,end=' ')\r\n",
        "    else:\r\n",
        "        break"
      ],
      "execution_count": 6,
      "outputs": [
        {
          "output_type": "stream",
          "text": [
            "9\n",
            "1 2 X 4 5 X 7 8 X "
          ],
          "name": "stdout"
        }
      ]
    },
    {
      "cell_type": "code",
      "metadata": {
        "colab": {
          "base_uri": "https://localhost:8080/"
        },
        "id": "pDT4ARqDVsUm",
        "outputId": "bde4af28-f98a-4f13-aab6-e3bedc09f521"
      },
      "source": [
        "#1084\r\n",
        "a, b, c = map(int, input().split())\r\n",
        "for i in range(0,a):\r\n",
        "    for j in range(0,b):\r\n",
        "        for k in range(0,c):\r\n",
        "            print(i,j,k, end='\\n')\r\n",
        "print(a*b*c)"
      ],
      "execution_count": 10,
      "outputs": [
        {
          "output_type": "stream",
          "text": [
            "2 2 2\n",
            "0 0 0\n",
            "0 0 1\n",
            "0 1 0\n",
            "0 1 1\n",
            "1 0 0\n",
            "1 0 1\n",
            "1 1 0\n",
            "1 1 1\n",
            "8\n"
          ],
          "name": "stdout"
        }
      ]
    },
    {
      "cell_type": "code",
      "metadata": {
        "colab": {
          "base_uri": "https://localhost:8080/"
        },
        "id": "AdcA1TL_WrSK",
        "outputId": "66d6881c-0125-4f39-b958-1db8d5687a22"
      },
      "source": [
        "#1085\r\n",
        "h, b, c, s = map(int,input().split())\r\n",
        "m = (h*b*c*s)/8/1024**2\r\n",
        "print(\"%.1f\" %m +' MB')"
      ],
      "execution_count": 20,
      "outputs": [
        {
          "output_type": "stream",
          "text": [
            "44100 16 2 10\n",
            "1.7 MB\n"
          ],
          "name": "stdout"
        }
      ]
    },
    {
      "cell_type": "code",
      "metadata": {
        "colab": {
          "base_uri": "https://localhost:8080/"
        },
        "id": "_9HLdjuTYRzv",
        "outputId": "9a416587-7106-4b93-e2cb-0acab858026e"
      },
      "source": [
        "#1086\r\n",
        "w, h, b = map(int,input().split())\r\n",
        "m = (w*h*b)/8/1024**2\r\n",
        "print(\"%.2f\" %m +' MB')"
      ],
      "execution_count": 21,
      "outputs": [
        {
          "output_type": "stream",
          "text": [
            "1024 768 24\n",
            "2.25 MB\n"
          ],
          "name": "stdout"
        }
      ]
    },
    {
      "cell_type": "code",
      "metadata": {
        "colab": {
          "base_uri": "https://localhost:8080/"
        },
        "id": "1ZVdqPt9Y4iA",
        "outputId": "f24627ab-0555-43d0-cfa0-e124095e8fff"
      },
      "source": [
        "#1078\r\n",
        "a = int(input())\r\n",
        "k = 0\r\n",
        "for i in range(1,100000000000):\r\n",
        "    if k < a:\r\n",
        "        k = k+i\r\n",
        "    else :\r\n",
        "        break\r\n",
        "print(k)"
      ],
      "execution_count": 24,
      "outputs": [
        {
          "output_type": "stream",
          "text": [
            "57\n",
            "66\n"
          ],
          "name": "stdout"
        }
      ]
    }
  ]
}