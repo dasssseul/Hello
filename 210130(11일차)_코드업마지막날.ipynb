{
  "nbformat": 4,
  "nbformat_minor": 0,
  "metadata": {
    "colab": {
      "name": "210130(11일차)_코드업마지막날.ipynb",
      "provenance": [],
      "authorship_tag": "ABX9TyPorRCzWxZ3P346PES34iok",
      "include_colab_link": true
    },
    "kernelspec": {
      "name": "python3",
      "display_name": "Python 3"
    }
  },
  "cells": [
    {
      "cell_type": "markdown",
      "metadata": {
        "id": "view-in-github",
        "colab_type": "text"
      },
      "source": [
        "<a href=\"https://colab.research.google.com/github/dasssseul/Hello/blob/main/210130(11%EC%9D%BC%EC%B0%A8)_%EC%BD%94%EB%93%9C%EC%97%85%EB%A7%88%EC%A7%80%EB%A7%89%EB%82%A0.ipynb\" target=\"_parent\"><img src=\"https://colab.research.google.com/assets/colab-badge.svg\" alt=\"Open In Colab\"/></a>"
      ]
    },
    {
      "cell_type": "code",
      "metadata": {
        "colab": {
          "base_uri": "https://localhost:8080/"
        },
        "id": "e4ycns57xs4D",
        "outputId": "660c950f-05a3-4876-e3a2-a74b83f75db2"
      },
      "source": [
        "#1094\r\n",
        "n = int(input())\r\n",
        "k = list(map(int, input().split()))\r\n",
        "for i in range(n-1, -1, -1):\r\n",
        "    print(k[i],end=' ')"
      ],
      "execution_count": 16,
      "outputs": [
        {
          "output_type": "stream",
          "text": [
            "5\n",
            "10 2 3 4 5\n",
            "5 4 3 2 10 "
          ],
          "name": "stdout"
        }
      ]
    },
    {
      "cell_type": "code",
      "metadata": {
        "colab": {
          "base_uri": "https://localhost:8080/"
        },
        "id": "CR0kAHgZ13yS",
        "outputId": "3522d603-cc15-400e-f424-38ff3489e796"
      },
      "source": [
        "#1095\r\n",
        "n = int(input())\r\n",
        "k = list(map(int, input().split()))\r\n",
        "m = k[0]\r\n",
        "for i in range(0, n):\r\n",
        "    if m >= k[i]:\r\n",
        "        m = k[i]\r\n",
        "print(m)\r\n"
      ],
      "execution_count": 19,
      "outputs": [
        {
          "output_type": "stream",
          "text": [
            "10\n",
            "10 4 2 3 6 6 7 9 8 5\n",
            "2\n"
          ],
          "name": "stdout"
        }
      ]
    },
    {
      "cell_type": "code",
      "metadata": {
        "colab": {
          "base_uri": "https://localhost:8080/"
        },
        "id": "TP9aLsf93CTB",
        "outputId": "25927fcf-4080-44ec-e3ef-48216d2df836"
      },
      "source": [
        "#1096\r\n",
        "m = []\r\n",
        "for i in range(20):\r\n",
        "    m.append([])\r\n",
        "    for j in range(20):\r\n",
        "        m[i].append(0)\r\n",
        "n = int(input())\r\n",
        "for i in range(n):\r\n",
        "    x, y = input().split()\r\n",
        "    m[int(x)-1][int(y)-1] = 1\r\n",
        "for i in range(19):\r\n",
        "    for j in range(19):\r\n",
        "        print(m[i][j], end=' ')\r\n",
        "    print()"
      ],
      "execution_count": 35,
      "outputs": [
        {
          "output_type": "stream",
          "text": [
            "2\n",
            "1 1 \n",
            "2 2\n",
            "1 0 0 0 0 0 0 0 0 0 0 0 0 0 0 0 0 0 0 \n",
            "0 1 0 0 0 0 0 0 0 0 0 0 0 0 0 0 0 0 0 \n",
            "0 0 0 0 0 0 0 0 0 0 0 0 0 0 0 0 0 0 0 \n",
            "0 0 0 0 0 0 0 0 0 0 0 0 0 0 0 0 0 0 0 \n",
            "0 0 0 0 0 0 0 0 0 0 0 0 0 0 0 0 0 0 0 \n",
            "0 0 0 0 0 0 0 0 0 0 0 0 0 0 0 0 0 0 0 \n",
            "0 0 0 0 0 0 0 0 0 0 0 0 0 0 0 0 0 0 0 \n",
            "0 0 0 0 0 0 0 0 0 0 0 0 0 0 0 0 0 0 0 \n",
            "0 0 0 0 0 0 0 0 0 0 0 0 0 0 0 0 0 0 0 \n",
            "0 0 0 0 0 0 0 0 0 0 0 0 0 0 0 0 0 0 0 \n",
            "0 0 0 0 0 0 0 0 0 0 0 0 0 0 0 0 0 0 0 \n",
            "0 0 0 0 0 0 0 0 0 0 0 0 0 0 0 0 0 0 0 \n",
            "0 0 0 0 0 0 0 0 0 0 0 0 0 0 0 0 0 0 0 \n",
            "0 0 0 0 0 0 0 0 0 0 0 0 0 0 0 0 0 0 0 \n",
            "0 0 0 0 0 0 0 0 0 0 0 0 0 0 0 0 0 0 0 \n",
            "0 0 0 0 0 0 0 0 0 0 0 0 0 0 0 0 0 0 0 \n",
            "0 0 0 0 0 0 0 0 0 0 0 0 0 0 0 0 0 0 0 \n",
            "0 0 0 0 0 0 0 0 0 0 0 0 0 0 0 0 0 0 0 \n",
            "0 0 0 0 0 0 0 0 0 0 0 0 0 0 0 0 0 0 0 \n"
          ],
          "name": "stdout"
        }
      ]
    },
    {
      "cell_type": "code",
      "metadata": {
        "colab": {
          "base_uri": "https://localhost:8080/"
        },
        "id": "s2GzZYDOEWUh",
        "outputId": "ea485f12-d4af-4061-b58b-59615c06429c"
      },
      "source": [
        "#1097\r\n",
        "m = [0]*19\r\n",
        "for i in range(19):\r\n",
        "    m[i] = list(map(int, input().split()))\r\n",
        "\r\n",
        "n = int(input())\r\n",
        "\r\n",
        "for i in range(n):\r\n",
        "    x , y = input().split()\r\n",
        "    for k in range(19):\r\n",
        "        if m[int(x)-1][k] == 0:\r\n",
        "            m[int(x)-1][k] = 1\r\n",
        "        else:\r\n",
        "             m[int(x)-1][k] = 0\r\n",
        "\r\n",
        "        if m[k][int(y)-1] == 0:\r\n",
        "            m[k][int(y)-1] = 1\r\n",
        "        else:\r\n",
        "            m[k][int(y)-1] = 0     \r\n",
        "\r\n",
        "for i in range(19):\r\n",
        "    for j in range(19):\r\n",
        "        print(m[i][j], end=' ')\r\n",
        "    print()"
      ],
      "execution_count": 55,
      "outputs": [
        {
          "output_type": "stream",
          "text": [
            "1 1 1\n",
            "0 0 0\n",
            "1 1 1 \n",
            "2\n",
            "1 2\n",
            "1 1\n",
            "1 1 1 \n",
            "0 0 0 \n",
            "1 1 1 \n"
          ],
          "name": "stdout"
        }
      ]
    },
    {
      "cell_type": "code",
      "metadata": {
        "id": "16OhzXtmDZs7"
      },
      "source": [
        "# 다솔이 풀이\r\n",
        "baduk = [0]*19\r\n",
        "for i in range(19) :\r\n",
        "    baduk[i] = list(map(int, input().split()))\r\n",
        "\r\n",
        "n = int(input())\r\n",
        "\r\n",
        "for i in range(n) :\r\n",
        "    x, y = map(int, input().split())\r\n",
        "    for j in range(19) :\r\n",
        "        baduk[x-1][j] = not baduk[x-1][j]\r\n",
        "        for k in range(19) :\r\n",
        "            baduk[k][y-1] = not baduk[k][y-1]\r\n",
        "\r\n",
        "for i in range(19) :\r\n",
        "    for j in range(19) :\r\n",
        "        print(int(baduk[i][j]), end=' ')\r\n",
        "    print()"
      ],
      "execution_count": null,
      "outputs": []
    }
  ]
}